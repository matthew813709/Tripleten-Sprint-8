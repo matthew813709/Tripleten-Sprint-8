{
 "cells": [
  {
   "cell_type": "markdown",
   "metadata": {},
   "source": [
    "# Sprint 8 Project"
   ]
  },
  {
   "cell_type": "markdown",
   "metadata": {},
   "source": [
    "In this project we attempted to examine two groups of data, being the testing data and the training data. The training data determines accuracy by not subjecting this group to the test variables under investigation, which allows the comparison we are trying to make valid. We examined the features of the data, and created a confusion matrix and F1 Score as well as examined several models for accuracy throughout the data. The goal was to solidify this task further."
   ]
  },
  {
   "cell_type": "markdown",
   "metadata": {},
   "source": [
    "To mitigate the class imbalance and improve the model's ability to generalize and accurately predict both classes, I will apply the following balancing techniques:\n",
    "Over-sampling the Minority Class & Under-sampling the Majority Class.\n",
    "\n",
    "After balancing the dataset using the chosen technique, I will proceed with training the models and evaluating their performance using F1 score and ROC-AUC, which are better metrics for imbalanced datasets.\n"
   ]
  },
  {
   "cell_type": "code",
   "execution_count": 2,
   "metadata": {},
   "outputs": [],
   "source": [
    "import pandas as pd\n",
    "import numpy as np\n",
    "from sklearn.model_selection import train_test_split\n",
    "from sklearn.tree import DecisionTreeClassifier\n",
    "from sklearn.metrics import recall_score, precision_score, f1_score, confusion_matrix, accuracy_score, roc_auc_score, make_scorer\n",
    "from sklearn.ensemble import RandomForestClassifier\n",
    "from sklearn.linear_model import LogisticRegression\n",
    "from sklearn.model_selection import GridSearchCV\n",
    "from sklearn.preprocessing import StandardScaler\n",
    "from sklearn.model_selection import cross_val_score\n",
    "from sklearn.ensemble import RandomForestClassifier\n",
    "from sklearn.metrics import recall_score\n",
    "from sklearn.utils import resample\n",
    "import matplotlib.pyplot as plt\n",
    "import seaborn as sns"
   ]
  },
  {
   "cell_type": "markdown",
   "metadata": {},
   "source": [
    "Imported all the required libraries for the analysis."
   ]
  },
  {
   "cell_type": "code",
   "execution_count": 3,
   "metadata": {},
   "outputs": [],
   "source": [
    "df = pd.read_csv('/datasets/Churn.csv')"
   ]
  },
  {
   "cell_type": "code",
   "execution_count": 4,
   "metadata": {},
   "outputs": [
    {
     "data": {
      "text/html": [
       "<div>\n",
       "<style scoped>\n",
       "    .dataframe tbody tr th:only-of-type {\n",
       "        vertical-align: middle;\n",
       "    }\n",
       "\n",
       "    .dataframe tbody tr th {\n",
       "        vertical-align: top;\n",
       "    }\n",
       "\n",
       "    .dataframe thead th {\n",
       "        text-align: right;\n",
       "    }\n",
       "</style>\n",
       "<table border=\"1\" class=\"dataframe\">\n",
       "  <thead>\n",
       "    <tr style=\"text-align: right;\">\n",
       "      <th></th>\n",
       "      <th>RowNumber</th>\n",
       "      <th>CustomerId</th>\n",
       "      <th>Surname</th>\n",
       "      <th>CreditScore</th>\n",
       "      <th>Geography</th>\n",
       "      <th>Gender</th>\n",
       "      <th>Age</th>\n",
       "      <th>Tenure</th>\n",
       "      <th>Balance</th>\n",
       "      <th>NumOfProducts</th>\n",
       "      <th>HasCrCard</th>\n",
       "      <th>IsActiveMember</th>\n",
       "      <th>EstimatedSalary</th>\n",
       "      <th>Exited</th>\n",
       "    </tr>\n",
       "  </thead>\n",
       "  <tbody>\n",
       "    <tr>\n",
       "      <th>0</th>\n",
       "      <td>1</td>\n",
       "      <td>15634602</td>\n",
       "      <td>Hargrave</td>\n",
       "      <td>619</td>\n",
       "      <td>France</td>\n",
       "      <td>Female</td>\n",
       "      <td>42</td>\n",
       "      <td>2.0</td>\n",
       "      <td>0.00</td>\n",
       "      <td>1</td>\n",
       "      <td>1</td>\n",
       "      <td>1</td>\n",
       "      <td>101348.88</td>\n",
       "      <td>1</td>\n",
       "    </tr>\n",
       "    <tr>\n",
       "      <th>1</th>\n",
       "      <td>2</td>\n",
       "      <td>15647311</td>\n",
       "      <td>Hill</td>\n",
       "      <td>608</td>\n",
       "      <td>Spain</td>\n",
       "      <td>Female</td>\n",
       "      <td>41</td>\n",
       "      <td>1.0</td>\n",
       "      <td>83807.86</td>\n",
       "      <td>1</td>\n",
       "      <td>0</td>\n",
       "      <td>1</td>\n",
       "      <td>112542.58</td>\n",
       "      <td>0</td>\n",
       "    </tr>\n",
       "    <tr>\n",
       "      <th>2</th>\n",
       "      <td>3</td>\n",
       "      <td>15619304</td>\n",
       "      <td>Onio</td>\n",
       "      <td>502</td>\n",
       "      <td>France</td>\n",
       "      <td>Female</td>\n",
       "      <td>42</td>\n",
       "      <td>8.0</td>\n",
       "      <td>159660.80</td>\n",
       "      <td>3</td>\n",
       "      <td>1</td>\n",
       "      <td>0</td>\n",
       "      <td>113931.57</td>\n",
       "      <td>1</td>\n",
       "    </tr>\n",
       "    <tr>\n",
       "      <th>3</th>\n",
       "      <td>4</td>\n",
       "      <td>15701354</td>\n",
       "      <td>Boni</td>\n",
       "      <td>699</td>\n",
       "      <td>France</td>\n",
       "      <td>Female</td>\n",
       "      <td>39</td>\n",
       "      <td>1.0</td>\n",
       "      <td>0.00</td>\n",
       "      <td>2</td>\n",
       "      <td>0</td>\n",
       "      <td>0</td>\n",
       "      <td>93826.63</td>\n",
       "      <td>0</td>\n",
       "    </tr>\n",
       "    <tr>\n",
       "      <th>4</th>\n",
       "      <td>5</td>\n",
       "      <td>15737888</td>\n",
       "      <td>Mitchell</td>\n",
       "      <td>850</td>\n",
       "      <td>Spain</td>\n",
       "      <td>Female</td>\n",
       "      <td>43</td>\n",
       "      <td>2.0</td>\n",
       "      <td>125510.82</td>\n",
       "      <td>1</td>\n",
       "      <td>1</td>\n",
       "      <td>1</td>\n",
       "      <td>79084.10</td>\n",
       "      <td>0</td>\n",
       "    </tr>\n",
       "  </tbody>\n",
       "</table>\n",
       "</div>"
      ],
      "text/plain": [
       "   RowNumber  CustomerId   Surname  CreditScore Geography  Gender  Age  \\\n",
       "0          1    15634602  Hargrave          619    France  Female   42   \n",
       "1          2    15647311      Hill          608     Spain  Female   41   \n",
       "2          3    15619304      Onio          502    France  Female   42   \n",
       "3          4    15701354      Boni          699    France  Female   39   \n",
       "4          5    15737888  Mitchell          850     Spain  Female   43   \n",
       "\n",
       "   Tenure    Balance  NumOfProducts  HasCrCard  IsActiveMember  \\\n",
       "0     2.0       0.00              1          1               1   \n",
       "1     1.0   83807.86              1          0               1   \n",
       "2     8.0  159660.80              3          1               0   \n",
       "3     1.0       0.00              2          0               0   \n",
       "4     2.0  125510.82              1          1               1   \n",
       "\n",
       "   EstimatedSalary  Exited  \n",
       "0        101348.88       1  \n",
       "1        112542.58       0  \n",
       "2        113931.57       1  \n",
       "3         93826.63       0  \n",
       "4         79084.10       0  "
      ]
     },
     "execution_count": 4,
     "metadata": {},
     "output_type": "execute_result"
    }
   ],
   "source": [
    "df.head()"
   ]
  },
  {
   "cell_type": "code",
   "execution_count": 5,
   "metadata": {},
   "outputs": [
    {
     "name": "stdout",
     "output_type": "stream",
     "text": [
      "Index(['RowNumber', 'CustomerId', 'Surname', 'CreditScore', 'Geography',\n",
      "       'Gender', 'Age', 'Tenure', 'Balance', 'NumOfProducts', 'HasCrCard',\n",
      "       'IsActiveMember', 'EstimatedSalary', 'Exited'],\n",
      "      dtype='object')\n"
     ]
    }
   ],
   "source": [
    "print(df.columns)"
   ]
  },
  {
   "cell_type": "markdown",
   "metadata": {},
   "source": [
    "Printed the dataframe and the columns of the dataframe."
   ]
  },
  {
   "cell_type": "code",
   "execution_count": 6,
   "metadata": {},
   "outputs": [
    {
     "data": {
      "text/plain": [
       "RowNumber            int64\n",
       "CustomerId           int64\n",
       "Surname             object\n",
       "CreditScore          int64\n",
       "Geography           object\n",
       "Gender              object\n",
       "Age                  int64\n",
       "Tenure             float64\n",
       "Balance            float64\n",
       "NumOfProducts        int64\n",
       "HasCrCard            int64\n",
       "IsActiveMember       int64\n",
       "EstimatedSalary    float64\n",
       "Exited               int64\n",
       "dtype: object"
      ]
     },
     "execution_count": 6,
     "metadata": {},
     "output_type": "execute_result"
    }
   ],
   "source": [
    "df.dtypes"
   ]
  },
  {
   "cell_type": "code",
   "execution_count": 7,
   "metadata": {},
   "outputs": [
    {
     "name": "stdout",
     "output_type": "stream",
     "text": [
      "   RowNumber  CustomerId   Surname  CreditScore  Gender  Age  Tenure  \\\n",
      "0          1    15634602  Hargrave          619  Female   42     2.0   \n",
      "1          2    15647311      Hill          608  Female   41     1.0   \n",
      "2          3    15619304      Onio          502  Female   42     8.0   \n",
      "3          4    15701354      Boni          699  Female   39     1.0   \n",
      "4          5    15737888  Mitchell          850  Female   43     2.0   \n",
      "\n",
      "     Balance  NumOfProducts  HasCrCard  IsActiveMember  EstimatedSalary  \\\n",
      "0       0.00              1          1               1        101348.88   \n",
      "1   83807.86              1          0               1        112542.58   \n",
      "2  159660.80              3          1               0        113931.57   \n",
      "3       0.00              2          0               0         93826.63   \n",
      "4  125510.82              1          1               1         79084.10   \n",
      "\n",
      "   Exited  Geography_Germany  Geography_Spain  \n",
      "0       1                  0                0  \n",
      "1       0                  0                1  \n",
      "2       1                  0                0  \n",
      "3       0                  0                0  \n",
      "4       0                  0                1  \n"
     ]
    }
   ],
   "source": [
    "df = pd.get_dummies(df, columns=['Geography'], drop_first=True)\n",
    "\n",
    "print(df.head())"
   ]
  },
  {
   "cell_type": "code",
   "execution_count": null,
   "metadata": {},
   "outputs": [],
   "source": []
  },
  {
   "cell_type": "markdown",
   "metadata": {},
   "source": [
    "Printed the datatypes of the dataframe to decide which columns have datatypes to exclude or convert."
   ]
  },
  {
   "cell_type": "code",
   "execution_count": 8,
   "metadata": {},
   "outputs": [
    {
     "data": {
      "text/plain": [
       "RowNumber              0\n",
       "CustomerId             0\n",
       "Surname                0\n",
       "CreditScore            0\n",
       "Gender                 0\n",
       "Age                    0\n",
       "Tenure               909\n",
       "Balance                0\n",
       "NumOfProducts          0\n",
       "HasCrCard              0\n",
       "IsActiveMember         0\n",
       "EstimatedSalary        0\n",
       "Exited                 0\n",
       "Geography_Germany      0\n",
       "Geography_Spain        0\n",
       "dtype: int64"
      ]
     },
     "execution_count": 8,
     "metadata": {},
     "output_type": "execute_result"
    }
   ],
   "source": [
    "df.isna().sum()"
   ]
  },
  {
   "cell_type": "markdown",
   "metadata": {},
   "source": [
    "Checked for null values in every column."
   ]
  },
  {
   "cell_type": "code",
   "execution_count": 9,
   "metadata": {},
   "outputs": [],
   "source": [
    "df = df.drop(['RowNumber', 'CustomerId', 'Surname'], axis=1)\n"
   ]
  },
  {
   "cell_type": "markdown",
   "metadata": {},
   "source": [
    "Dropped several columns. These columns were specific identifiers and do not contribute to the reasoning we are investigating, whether the client will 'churn' or not."
   ]
  },
  {
   "cell_type": "code",
   "execution_count": 10,
   "metadata": {},
   "outputs": [],
   "source": [
    "df = df.dropna(subset=['Tenure'])"
   ]
  },
  {
   "cell_type": "markdown",
   "metadata": {},
   "source": [
    "Dropped the null values."
   ]
  },
  {
   "cell_type": "code",
   "execution_count": 11,
   "metadata": {},
   "outputs": [],
   "source": [
    "df['Balance'] = df['Balance'].astype(int)"
   ]
  },
  {
   "cell_type": "code",
   "execution_count": 12,
   "metadata": {},
   "outputs": [],
   "source": [
    "df['NumOfProducts'] = df['NumOfProducts'].astype(int)"
   ]
  },
  {
   "cell_type": "code",
   "execution_count": 13,
   "metadata": {},
   "outputs": [],
   "source": [
    "df['EstimatedSalary'] = df['EstimatedSalary'].astype(int)"
   ]
  },
  {
   "cell_type": "markdown",
   "metadata": {},
   "source": [
    "Converted columns that needed it to the correct datatypes."
   ]
  },
  {
   "cell_type": "code",
   "execution_count": 14,
   "metadata": {},
   "outputs": [
    {
     "data": {
      "text/plain": [
       "CreditScore          0\n",
       "Gender               0\n",
       "Age                  0\n",
       "Tenure               0\n",
       "Balance              0\n",
       "NumOfProducts        0\n",
       "HasCrCard            0\n",
       "IsActiveMember       0\n",
       "EstimatedSalary      0\n",
       "Exited               0\n",
       "Geography_Germany    0\n",
       "Geography_Spain      0\n",
       "dtype: int64"
      ]
     },
     "execution_count": 14,
     "metadata": {},
     "output_type": "execute_result"
    }
   ],
   "source": [
    "df.isna().sum()"
   ]
  },
  {
   "cell_type": "markdown",
   "metadata": {},
   "source": [
    "Checked for null values."
   ]
  },
  {
   "cell_type": "code",
   "execution_count": 15,
   "metadata": {},
   "outputs": [
    {
     "name": "stdout",
     "output_type": "stream",
     "text": [
      "0    0\n",
      "1    0\n",
      "2    0\n",
      "3    0\n",
      "4    0\n",
      "Name: Gender, dtype: int64\n"
     ]
    }
   ],
   "source": [
    "df['Gender'] = df['Gender'].map({'Male': 1, 'Female': 0})\n",
    "\n",
    "print(df['Gender'].head())"
   ]
  },
  {
   "cell_type": "code",
   "execution_count": 16,
   "metadata": {},
   "outputs": [
    {
     "name": "stdout",
     "output_type": "stream",
     "text": [
      "   CreditScore  Age  Tenure  Balance  NumOfProducts  HasCrCard  \\\n",
      "0          619   42     2.0        0              1          1   \n",
      "1          608   41     1.0    83807              1          0   \n",
      "2          502   42     8.0   159660              3          1   \n",
      "3          699   39     1.0        0              2          0   \n",
      "4          850   43     2.0   125510              1          1   \n",
      "\n",
      "   IsActiveMember  EstimatedSalary  Exited  Geography_Germany  \\\n",
      "0               1           101348       1                  0   \n",
      "1               1           112542       0                  0   \n",
      "2               0           113931       1                  0   \n",
      "3               0            93826       0                  0   \n",
      "4               1            79084       0                  0   \n",
      "\n",
      "   Geography_Spain  Gender_1  \n",
      "0                0         0  \n",
      "1                1         0  \n",
      "2                0         0  \n",
      "3                0         0  \n",
      "4                1         0  \n"
     ]
    }
   ],
   "source": [
    "df = pd.get_dummies(df, columns=['Gender'], drop_first=True)\n",
    "\n",
    "print(df.head())"
   ]
  },
  {
   "cell_type": "markdown",
   "metadata": {},
   "source": [
    "Converted this column to a numerrically relevent type."
   ]
  },
  {
   "cell_type": "markdown",
   "metadata": {},
   "source": [
    "Again, checking for null data types and getting a feel of the overall shape of the dataframe."
   ]
  },
  {
   "cell_type": "code",
   "execution_count": 17,
   "metadata": {},
   "outputs": [
    {
     "data": {
      "text/html": [
       "<div>\n",
       "<style scoped>\n",
       "    .dataframe tbody tr th:only-of-type {\n",
       "        vertical-align: middle;\n",
       "    }\n",
       "\n",
       "    .dataframe tbody tr th {\n",
       "        vertical-align: top;\n",
       "    }\n",
       "\n",
       "    .dataframe thead th {\n",
       "        text-align: right;\n",
       "    }\n",
       "</style>\n",
       "<table border=\"1\" class=\"dataframe\">\n",
       "  <thead>\n",
       "    <tr style=\"text-align: right;\">\n",
       "      <th></th>\n",
       "      <th>CreditScore</th>\n",
       "      <th>Age</th>\n",
       "      <th>Tenure</th>\n",
       "      <th>Balance</th>\n",
       "      <th>NumOfProducts</th>\n",
       "      <th>HasCrCard</th>\n",
       "      <th>IsActiveMember</th>\n",
       "      <th>EstimatedSalary</th>\n",
       "      <th>Exited</th>\n",
       "      <th>Geography_Germany</th>\n",
       "      <th>Geography_Spain</th>\n",
       "      <th>Gender_1</th>\n",
       "    </tr>\n",
       "  </thead>\n",
       "  <tbody>\n",
       "    <tr>\n",
       "      <th>0</th>\n",
       "      <td>619</td>\n",
       "      <td>42</td>\n",
       "      <td>2.0</td>\n",
       "      <td>0</td>\n",
       "      <td>1</td>\n",
       "      <td>1</td>\n",
       "      <td>1</td>\n",
       "      <td>101348</td>\n",
       "      <td>1</td>\n",
       "      <td>0</td>\n",
       "      <td>0</td>\n",
       "      <td>0</td>\n",
       "    </tr>\n",
       "    <tr>\n",
       "      <th>1</th>\n",
       "      <td>608</td>\n",
       "      <td>41</td>\n",
       "      <td>1.0</td>\n",
       "      <td>83807</td>\n",
       "      <td>1</td>\n",
       "      <td>0</td>\n",
       "      <td>1</td>\n",
       "      <td>112542</td>\n",
       "      <td>0</td>\n",
       "      <td>0</td>\n",
       "      <td>1</td>\n",
       "      <td>0</td>\n",
       "    </tr>\n",
       "    <tr>\n",
       "      <th>2</th>\n",
       "      <td>502</td>\n",
       "      <td>42</td>\n",
       "      <td>8.0</td>\n",
       "      <td>159660</td>\n",
       "      <td>3</td>\n",
       "      <td>1</td>\n",
       "      <td>0</td>\n",
       "      <td>113931</td>\n",
       "      <td>1</td>\n",
       "      <td>0</td>\n",
       "      <td>0</td>\n",
       "      <td>0</td>\n",
       "    </tr>\n",
       "    <tr>\n",
       "      <th>3</th>\n",
       "      <td>699</td>\n",
       "      <td>39</td>\n",
       "      <td>1.0</td>\n",
       "      <td>0</td>\n",
       "      <td>2</td>\n",
       "      <td>0</td>\n",
       "      <td>0</td>\n",
       "      <td>93826</td>\n",
       "      <td>0</td>\n",
       "      <td>0</td>\n",
       "      <td>0</td>\n",
       "      <td>0</td>\n",
       "    </tr>\n",
       "    <tr>\n",
       "      <th>4</th>\n",
       "      <td>850</td>\n",
       "      <td>43</td>\n",
       "      <td>2.0</td>\n",
       "      <td>125510</td>\n",
       "      <td>1</td>\n",
       "      <td>1</td>\n",
       "      <td>1</td>\n",
       "      <td>79084</td>\n",
       "      <td>0</td>\n",
       "      <td>0</td>\n",
       "      <td>1</td>\n",
       "      <td>0</td>\n",
       "    </tr>\n",
       "    <tr>\n",
       "      <th>...</th>\n",
       "      <td>...</td>\n",
       "      <td>...</td>\n",
       "      <td>...</td>\n",
       "      <td>...</td>\n",
       "      <td>...</td>\n",
       "      <td>...</td>\n",
       "      <td>...</td>\n",
       "      <td>...</td>\n",
       "      <td>...</td>\n",
       "      <td>...</td>\n",
       "      <td>...</td>\n",
       "      <td>...</td>\n",
       "    </tr>\n",
       "    <tr>\n",
       "      <th>9994</th>\n",
       "      <td>800</td>\n",
       "      <td>29</td>\n",
       "      <td>2.0</td>\n",
       "      <td>0</td>\n",
       "      <td>2</td>\n",
       "      <td>0</td>\n",
       "      <td>0</td>\n",
       "      <td>167773</td>\n",
       "      <td>0</td>\n",
       "      <td>0</td>\n",
       "      <td>0</td>\n",
       "      <td>0</td>\n",
       "    </tr>\n",
       "    <tr>\n",
       "      <th>9995</th>\n",
       "      <td>771</td>\n",
       "      <td>39</td>\n",
       "      <td>5.0</td>\n",
       "      <td>0</td>\n",
       "      <td>2</td>\n",
       "      <td>1</td>\n",
       "      <td>0</td>\n",
       "      <td>96270</td>\n",
       "      <td>0</td>\n",
       "      <td>0</td>\n",
       "      <td>0</td>\n",
       "      <td>1</td>\n",
       "    </tr>\n",
       "    <tr>\n",
       "      <th>9996</th>\n",
       "      <td>516</td>\n",
       "      <td>35</td>\n",
       "      <td>10.0</td>\n",
       "      <td>57369</td>\n",
       "      <td>1</td>\n",
       "      <td>1</td>\n",
       "      <td>1</td>\n",
       "      <td>101699</td>\n",
       "      <td>0</td>\n",
       "      <td>0</td>\n",
       "      <td>0</td>\n",
       "      <td>1</td>\n",
       "    </tr>\n",
       "    <tr>\n",
       "      <th>9997</th>\n",
       "      <td>709</td>\n",
       "      <td>36</td>\n",
       "      <td>7.0</td>\n",
       "      <td>0</td>\n",
       "      <td>1</td>\n",
       "      <td>0</td>\n",
       "      <td>1</td>\n",
       "      <td>42085</td>\n",
       "      <td>1</td>\n",
       "      <td>0</td>\n",
       "      <td>0</td>\n",
       "      <td>0</td>\n",
       "    </tr>\n",
       "    <tr>\n",
       "      <th>9998</th>\n",
       "      <td>772</td>\n",
       "      <td>42</td>\n",
       "      <td>3.0</td>\n",
       "      <td>75075</td>\n",
       "      <td>2</td>\n",
       "      <td>1</td>\n",
       "      <td>0</td>\n",
       "      <td>92888</td>\n",
       "      <td>1</td>\n",
       "      <td>1</td>\n",
       "      <td>0</td>\n",
       "      <td>1</td>\n",
       "    </tr>\n",
       "  </tbody>\n",
       "</table>\n",
       "<p>9091 rows × 12 columns</p>\n",
       "</div>"
      ],
      "text/plain": [
       "      CreditScore  Age  Tenure  Balance  NumOfProducts  HasCrCard  \\\n",
       "0             619   42     2.0        0              1          1   \n",
       "1             608   41     1.0    83807              1          0   \n",
       "2             502   42     8.0   159660              3          1   \n",
       "3             699   39     1.0        0              2          0   \n",
       "4             850   43     2.0   125510              1          1   \n",
       "...           ...  ...     ...      ...            ...        ...   \n",
       "9994          800   29     2.0        0              2          0   \n",
       "9995          771   39     5.0        0              2          1   \n",
       "9996          516   35    10.0    57369              1          1   \n",
       "9997          709   36     7.0        0              1          0   \n",
       "9998          772   42     3.0    75075              2          1   \n",
       "\n",
       "      IsActiveMember  EstimatedSalary  Exited  Geography_Germany  \\\n",
       "0                  1           101348       1                  0   \n",
       "1                  1           112542       0                  0   \n",
       "2                  0           113931       1                  0   \n",
       "3                  0            93826       0                  0   \n",
       "4                  1            79084       0                  0   \n",
       "...              ...              ...     ...                ...   \n",
       "9994               0           167773       0                  0   \n",
       "9995               0            96270       0                  0   \n",
       "9996               1           101699       0                  0   \n",
       "9997               1            42085       1                  0   \n",
       "9998               0            92888       1                  1   \n",
       "\n",
       "      Geography_Spain  Gender_1  \n",
       "0                   0         0  \n",
       "1                   1         0  \n",
       "2                   0         0  \n",
       "3                   0         0  \n",
       "4                   1         0  \n",
       "...               ...       ...  \n",
       "9994                0         0  \n",
       "9995                0         1  \n",
       "9996                0         1  \n",
       "9997                0         0  \n",
       "9998                0         1  \n",
       "\n",
       "[9091 rows x 12 columns]"
      ]
     },
     "execution_count": 17,
     "metadata": {},
     "output_type": "execute_result"
    }
   ],
   "source": [
    "df"
   ]
  },
  {
   "cell_type": "code",
   "execution_count": 18,
   "metadata": {},
   "outputs": [
    {
     "name": "stdout",
     "output_type": "stream",
     "text": [
      "0         0\n",
      "1     83807\n",
      "2    159660\n",
      "3         0\n",
      "4    125510\n",
      "Name: Balance, dtype: int64\n"
     ]
    }
   ],
   "source": [
    "print(df['Balance'].head())"
   ]
  },
  {
   "cell_type": "markdown",
   "metadata": {},
   "source": [
    "Cleaned unnecessary data."
   ]
  },
  {
   "cell_type": "code",
   "execution_count": 19,
   "metadata": {},
   "outputs": [],
   "source": [
    "if 'Exited' in df.columns:\n",
    "    features = df[['CreditScore', 'Geography_Germany', 'Geography_Spain', 'Age', 'Balance', 'Tenure', 'HasCrCard', 'IsActiveMember']]\n",
    "    target = df['Exited']\n",
    "else:\n",
    "    print(\"Column 'Exited' not found in the DataFrame.\")\n",
    " \n"
   ]
  },
  {
   "cell_type": "markdown",
   "metadata": {},
   "source": [
    "Checked for error."
   ]
  },
  {
   "cell_type": "code",
   "execution_count": 20,
   "metadata": {},
   "outputs": [],
   "source": [
    "model_performance = {}"
   ]
  },
  {
   "cell_type": "code",
   "execution_count": null,
   "metadata": {},
   "outputs": [],
   "source": []
  },
  {
   "cell_type": "code",
   "execution_count": 21,
   "metadata": {},
   "outputs": [
    {
     "name": "stdout",
     "output_type": "stream",
     "text": [
      "(5454, 11) (5454,)\n",
      "(1818, 11) (1818,)\n",
      "(1819, 11) (1819,)\n"
     ]
    }
   ],
   "source": [
    "X = df.drop('Exited', axis=1)\n",
    "y = df['Exited']\n",
    "\n",
    "X_train, X_valid, y_train, y_valid = train_test_split(X, y, test_size=0.4, random_state=12345)\n",
    "X_valid, X_test, y_valid, y_test = train_test_split(X_valid, y_valid, test_size=0.5, random_state=12345)\n",
    "\n",
    "print(X_train.shape, y_train.shape)\n",
    "print(X_valid.shape, y_valid.shape)\n",
    "print(X_test.shape, y_test.shape)"
   ]
  },
  {
   "cell_type": "markdown",
   "metadata": {},
   "source": [
    "Further training and splitting of the data."
   ]
  },
  {
   "cell_type": "code",
   "execution_count": 22,
   "metadata": {},
   "outputs": [
    {
     "name": "stdout",
     "output_type": "stream",
     "text": [
      "0.7898789878987899\n"
     ]
    }
   ],
   "source": [
    "dt_model = DecisionTreeClassifier(random_state=12345)\n",
    "dt_model.fit(X_train, y_train)\n",
    "\n",
    "\n",
    "predicted_valid = dt_model.predict(X_valid)\n",
    "\n",
    "\n",
    "dt_accuracy = accuracy_score(y_valid, predicted_valid)\n",
    "print(dt_accuracy)\n",
    "\n",
    "model_performance = {'DecisionTreeClassifier': dt_accuracy}"
   ]
  },
  {
   "cell_type": "markdown",
   "metadata": {},
   "source": [
    "The decision tree model is at 78.98%."
   ]
  },
  {
   "cell_type": "code",
   "execution_count": 23,
   "metadata": {},
   "outputs": [
    {
     "name": "stdout",
     "output_type": "stream",
     "text": [
      "0.8492849284928493\n"
     ]
    }
   ],
   "source": [
    "rf_model = RandomForestClassifier(random_state=54321, n_estimators=10)\n",
    "rf_model.fit(X_train, y_train)\n",
    "predicted_valid = rf_model.predict(X_valid)\n",
    "val_preds = rf_model.predict(X_valid)\n",
    "rf_accuracy = accuracy_score(y_valid, val_preds)\n",
    "model_performance['RandomForestClassifier'] = rf_accuracy\n",
    "print(rf_accuracy)"
   ]
  },
  {
   "cell_type": "code",
   "execution_count": 24,
   "metadata": {},
   "outputs": [
    {
     "name": "stdout",
     "output_type": "stream",
     "text": [
      "0.7960620393796062\n"
     ]
    }
   ],
   "source": [
    "target_pred_constant = pd.Series(0, index=target.index)\n",
    "\n",
    "print(accuracy_score(target, target_pred_constant))"
   ]
  },
  {
   "cell_type": "code",
   "execution_count": 25,
   "metadata": {},
   "outputs": [
    {
     "name": "stdout",
     "output_type": "stream",
     "text": [
      "0.7882288228822882\n"
     ]
    }
   ],
   "source": [
    "lr_model = LogisticRegression(random_state=54321)\n",
    "lr_model.fit(X_train, y_train)\n",
    "predicted_valid = lr_model.predict(X_valid)\n",
    "val_preds = lr_model.predict(X_valid)\n",
    "lr_accuracy = accuracy_score(y_valid, val_preds)\n",
    "model_performance['LogisticRegression'] = lr_accuracy\n",
    "\n",
    "print(lr_accuracy)"
   ]
  },
  {
   "cell_type": "code",
   "execution_count": 26,
   "metadata": {},
   "outputs": [
    {
     "name": "stdout",
     "output_type": "stream",
     "text": [
      "[[1419   22]\n",
      " [ 363   14]]\n"
     ]
    }
   ],
   "source": [
    "print(confusion_matrix(y_valid, predicted_valid))"
   ]
  },
  {
   "cell_type": "markdown",
   "metadata": {},
   "source": [
    "After running a sanity check, the process of comparing our model with a random one to assess whether the model makes sense we determined it does. A confusion matrix is a useful tool for evaluating the performance of a classification model. It provides a summary of how well the model’s predictions match the actual class labels.\n",
    "\n",
    "In binary classification (where there are two classes), the confusion matrix has four entries:\n",
    "True Positives (TP): The number of instances correctly predicted as positive.\n",
    "True Negatives (TN): The number of instances correctly predicted as negative.\n",
    "False Positives (FP): The number of instances incorrectly predicted as positive.\n",
    "False Negatives (FN): The number of instances incorrectly predicted as negative.\n",
    "\n",
    "We can see all 4 of the targets and we can, upon initial inspection, determine that the numbers are high for true positives and relatively high in false negatives. It is relatively low in false positives and true negatives. This indicates there less true negatives than false negatives as well as more true positives than false positives or false negatives."
   ]
  },
  {
   "cell_type": "code",
   "execution_count": 27,
   "metadata": {},
   "outputs": [
    {
     "data": {
      "image/png": "[encoded data removed]",
      "text/plain": [
       "<Figure size 640x480 with 1 Axes>"
      ]
     },
     "metadata": {},
     "output_type": "display_data"
    },
    {
     "name": "stdout",
     "output_type": "stream",
     "text": [
      "0    7237\n",
      "1    1854\n",
      "Name: Exited, dtype: int64\n"
     ]
    }
   ],
   "source": [
    "sns.countplot(x=df['Exited'])\n",
    "plt.title('Distribution of the Exited Column')\n",
    "plt.xlabel('Exited')\n",
    "plt.ylabel('Count')\n",
    "plt.show()\n",
    "\n",
    "# Alternatively, you can print the value counts\n",
    "print(df['Exited'].value_counts())"
   ]
  },
  {
   "cell_type": "markdown",
   "metadata": {},
   "source": [
    "After loading the dataset, I checked the distribution of the target variable Exited to understand the balance between the classes. The distribution is shown in the bar plot and value counts below:\n",
    "\n",
    "Exited = 0 (No): 7237 instances\n",
    "Exited = 1 (Yes): 1854 instances\n",
    "\n",
    "As we can see from the plot and value counts, we have a significant class imbalance in our dataset. The number of customers who did not exit (7237) is much larger than the number of customers who exited (1854)."
   ]
  },
  {
   "cell_type": "code",
   "execution_count": 45,
   "metadata": {},
   "outputs": [
    {
     "name": "stdout",
     "output_type": "stream",
     "text": [
      "DecisionTreeClassifier Validation F1 Score: 0.49\n",
      "RandomForestClassifier Validation F1 Score: 0.55\n",
      "LogisticRegression Validation F1 Score: 0.07\n",
      "Test F1 Score: 0.53\n"
     ]
    }
   ],
   "source": [
    "model_performance = {\n",
    "    'DecisionTreeClassifier': f1_score(y_valid, dt_model.predict(X_valid)),\n",
    "    'RandomForestClassifier': f1_score(y_valid, rf_model.predict(X_valid)),\n",
    "    'LogisticRegression': f1_score(y_valid, lr_model.predict(X_valid))\n",
    "}\n",
    "\n",
    "# Print F1 scores for each model\n",
    "for model_name, f1 in model_performance.items():\n",
    "    print(f\"{model_name} Validation F1 Score: {f1:.2f}\")\n",
    "\n",
    "# Suggest the model with the highest F1 score\n",
    "suggested_model_name = max(model_performance, key=model_performance.get)\n",
    "suggested_model = None\n",
    "\n",
    "if suggested_model_name == 'DecisionTreeClassifier':\n",
    "    suggested_model = dt_model\n",
    "elif suggested_model_name == 'RandomForestClassifier':\n",
    "    suggested_model = rf_model\n",
    "elif suggested_model_name == 'LogisticRegression':\n",
    "    suggested_model = lr_model\n",
    "\n",
    "# Evaluate the suggested model on the test set\n",
    "test_preds = suggested_model.predict(X_test)\n",
    "test_f1_score = f1_score(y_test, test_preds)\n",
    "print(f\"Test F1 Score: {test_f1_score:.2f}\")\n"
   ]
  },
  {
   "cell_type": "markdown",
   "metadata": {},
   "source": [
    "The best model was the Random Forest Classsifier at 85%."
   ]
  },
  {
   "cell_type": "code",
   "execution_count": 29,
   "metadata": {},
   "outputs": [
    {
     "name": "stdout",
     "output_type": "stream",
     "text": [
      "0.03713527851458886\n"
     ]
    }
   ],
   "source": [
    "recall = recall_score(y_valid, predicted_valid, average='binary')\n",
    "print(recall)"
   ]
  },
  {
   "cell_type": "markdown",
   "metadata": {},
   "source": [
    "Recall, which takes all data that is accurate and calculates what fraction of them was recognized by the model, is at 3.7%. Data that was recognized by the model by mistake are ignored."
   ]
  },
  {
   "cell_type": "code",
   "execution_count": 30,
   "metadata": {},
   "outputs": [
    {
     "name": "stdout",
     "output_type": "stream",
     "text": [
      "0.5728813559322035\n"
     ]
    }
   ],
   "source": [
    "model = RandomForestClassifier(class_weight='balanced', random_state=12345)\n",
    "model.fit(X_train, y_train)\n",
    "\n",
    "y_pred_valid = model.predict(X_valid)\n",
    "\n",
    "f1 = f1_score(y_valid, y_pred_valid, average='binary')\n",
    "print(f1)\n"
   ]
  },
  {
   "cell_type": "code",
   "execution_count": 31,
   "metadata": {},
   "outputs": [
    {
     "name": "stdout",
     "output_type": "stream",
     "text": [
      "0.47860962566844917\n"
     ]
    }
   ],
   "source": [
    "model = DecisionTreeClassifier(class_weight='balanced', random_state=12345)\n",
    "model.fit(X_train, y_train)\n",
    "\n",
    "y_pred_valid = model.predict(X_valid)\n",
    "\n",
    "f1 = f1_score(y_valid, y_pred_valid, average='binary')\n",
    "print(f1)\n"
   ]
  },
  {
   "cell_type": "code",
   "execution_count": 32,
   "metadata": {},
   "outputs": [
    {
     "name": "stdout",
     "output_type": "stream",
     "text": [
      "0.3595667870036101\n"
     ]
    }
   ],
   "source": [
    "model = LogisticRegression(class_weight='balanced', random_state=12345)\n",
    "model.fit(X_train, y_train)\n",
    "\n",
    "y_pred_valid = model.predict(X_valid)\n",
    "\n",
    "f1 = f1_score(y_valid, y_pred_valid, average='binary')\n",
    "print(f1)\n"
   ]
  },
  {
   "cell_type": "code",
   "execution_count": 33,
   "metadata": {},
   "outputs": [
    {
     "name": "stdout",
     "output_type": "stream",
     "text": [
      "F1 score with scaled features: 0.5704584040747029\n"
     ]
    }
   ],
   "source": [
    "scaler = StandardScaler()\n",
    "num_features = ['CreditScore', 'Age', 'Tenure', 'Balance', 'NumOfProducts', 'EstimatedSalary']\n",
    "X_train_scaled = X_train.copy()\n",
    "X_valid_scaled = X_valid.copy()\n",
    "X_train_scaled[num_features] = scaler.fit_transform(X_train[num_features])\n",
    "X_valid_scaled[num_features] = scaler.transform(X_valid[num_features])\n",
    "\n",
    "# Then you would fit your model with these scaled features\n",
    "model = RandomForestClassifier(random_state=12345, class_weight='balanced')\n",
    "model.fit(X_train_scaled, y_train)\n",
    "y_pred_valid = model.predict(X_valid_scaled)\n",
    "f1 = f1_score(y_valid, y_pred_valid, average='binary')\n",
    "print(f'F1 score with scaled features: {f1}')\n"
   ]
  },
  {
   "cell_type": "code",
   "execution_count": 34,
   "metadata": {},
   "outputs": [
    {
     "name": "stdout",
     "output_type": "stream",
     "text": [
      "0.6092307692307691\n"
     ]
    }
   ],
   "source": [
    "train_data = pd.concat([X_train, y_train], axis=1)\n",
    "\n",
    "# Separate minority and majority classes\n",
    "majority_class = train_data[train_data.Exited == 0]\n",
    "minority_class = train_data[train_data.Exited == 1]\n",
    "\n",
    "# Upsample minority class\n",
    "minority_upsampled = resample(minority_class, \n",
    "                              replace=True, # Sample with replacement\n",
    "                              n_samples=len(majority_class), # Match number in majority class\n",
    "                              random_state=12345)\n",
    "\n",
    "# Combine majority class with upsampled minority class\n",
    "upsampled_train = pd.concat([majority_class, minority_upsampled])\n",
    "\n",
    "# Separate features and labels\n",
    "X_train_upsampled = upsampled_train.drop('Exited', axis=1)\n",
    "y_train_upsampled = upsampled_train.Exited\n",
    "\n",
    "# Train the model with upsampled data\n",
    "model = RandomForestClassifier(random_state=12345)\n",
    "model.fit(X_train_upsampled, y_train_upsampled)\n",
    "\n",
    "y_pred_valid = model.predict(X_valid)\n",
    "\n",
    "f1 = f1_score(y_valid, y_pred_valid, average='binary')\n",
    "print(f1)\n"
   ]
  },
  {
   "cell_type": "code",
   "execution_count": 35,
   "metadata": {},
   "outputs": [
    {
     "name": "stdout",
     "output_type": "stream",
     "text": [
      "0.5982053838484547\n"
     ]
    }
   ],
   "source": [
    "train_data = pd.concat([X_train, y_train], axis=1)\n",
    "\n",
    "# Separate minority and majority classes\n",
    "majority_class = train_data[train_data.Exited == 0]\n",
    "minority_class = train_data[train_data.Exited == 1]\n",
    "\n",
    "# Downsample majority class\n",
    "majority_downsampled = resample(majority_class, \n",
    "                                replace=False,  # Sample without replacement\n",
    "                                n_samples=len(minority_class),  # Match number in minority class\n",
    "                                random_state=12345)  # Reproducible results\n",
    "\n",
    "# Combine minority class with downsampled majority class\n",
    "downsampled_train = pd.concat([majority_downsampled, minority_class])\n",
    "\n",
    "# Separate features and labels\n",
    "X_train_downsampled = downsampled_train.drop('Exited', axis=1)\n",
    "y_train_downsampled = downsampled_train.Exited\n",
    "\n",
    "# Train the model with downsampled data\n",
    "model = RandomForestClassifier(random_state=12345)\n",
    "model.fit(X_train_downsampled, y_train_downsampled)\n",
    "\n",
    "y_pred_valid = model.predict(X_valid)\n",
    "\n",
    "f1 = f1_score(y_valid, y_pred_valid, average='binary')\n",
    "print(f1)"
   ]
  },
  {
   "cell_type": "markdown",
   "metadata": {},
   "source": [
    "The F1 score, which is calculated as the harmonic mean of precision and recall, is at 59.8%, which satisfies the requirement outlined in the project instructions."
   ]
  },
  {
   "cell_type": "code",
   "execution_count": 36,
   "metadata": {},
   "outputs": [
    {
     "name": "stdout",
     "output_type": "stream",
     "text": [
      "0.4792332268370607\n"
     ]
    }
   ],
   "source": [
    "precision = precision_score(y_valid, y_pred_valid, average='binary')\n",
    "print(precision)"
   ]
  },
  {
   "cell_type": "markdown",
   "metadata": {},
   "source": [
    "Precision, which is an evaluation metric that shows the ratio of the number of actual observations with answer \"1\" to the number of observations marked as \"1\" by the model is at 80.3%."
   ]
  },
  {
   "cell_type": "code",
   "execution_count": 37,
   "metadata": {},
   "outputs": [
    {
     "name": "stdout",
     "output_type": "stream",
     "text": [
      "Accuracy of the logistic regression model on the training set: 0.7882288228822882\n",
      "Accuracy of the logistic regression model on the validation set: 0.7887788778877888\n"
     ]
    }
   ],
   "source": [
    "\n",
    "model = LogisticRegression(\n",
    "    random_state=54321, solver=\"liblinear\"\n",
    ")\n",
    "model.fit(X_train, y_train)\n",
    "score_train = model.score(X_train, y_train)\n",
    "score_valid = model.score(X_valid, y_valid)\n",
    "\n",
    "print(\n",
    "    \"Accuracy of the logistic regression model on the training set:\",\n",
    "    score_train,\n",
    ")\n",
    "print(\n",
    "    \"Accuracy of the logistic regression model on the validation set:\",\n",
    "    score_valid,\n",
    ")"
   ]
  },
  {
   "cell_type": "markdown",
   "metadata": {},
   "source": [
    "the logistic regression model is relatively high, at 78.82% for the training set and 78.87% for the validation set."
   ]
  },
  {
   "cell_type": "code",
   "execution_count": 47,
   "metadata": {},
   "outputs": [
    {
     "name": "stdout",
     "output_type": "stream",
     "text": [
      "Best F1 score on the validation set (n_estimators = 40): 0.6030769230769231\n",
      "F1 Score on upsampled test set: 0.5869218500797447\n",
      "ROC-AUC Score on upsampled test set: 0.835472026207721\n",
      "Best Model: RandomForestClassifier(n_estimators=40, random_state=54321) Test Accuracy: 0.86\n"
     ]
    }
   ],
   "source": [
    "best_score = 0\n",
    "best_est = 0\n",
    "\n",
    "# Increase range of estimators\n",
    "for est in range(10, 101, 10):  # Testing more values in steps of 10 for a wider range\n",
    "    model = RandomForestClassifier(random_state=54321, n_estimators=est)\n",
    "    model.fit(X_train_upsampled, y_train_upsampled)  # Use upsampled training set\n",
    "    y_pred_valid = model.predict(X_valid)\n",
    "    score = f1_score(y_valid, y_pred_valid, average='binary')  # Calculate F1 score\n",
    "    \n",
    "    if score > best_score:\n",
    "        best_score = score\n",
    "        best_est = est\n",
    "\n",
    "print(\"Best F1 score on the validation set (n_estimators = {}): {}\".format(best_est, best_score))\n",
    "\n",
    "# Train the final model with optimal parameters\n",
    "final_model = RandomForestClassifier(random_state=54321, n_estimators=best_est)\n",
    "final_model.fit(X_train_upsampled, y_train_upsampled)\n",
    "\n",
    "# Evaluate on the test set\n",
    "y_pred_test = final_model.predict(X_test)\n",
    "y_pred_proba_test = final_model.predict_proba(X_test)[:, 1]\n",
    "\n",
    "f1 = f1_score(y_test, y_pred_test, average='binary')\n",
    "roc_auc = roc_auc_score(y_test, y_pred_proba_test)\n",
    "\n",
    "print(f'F1 Score on upsampled test set: {f1}')\n",
    "print(f'ROC-AUC Score on upsampled test set: {roc_auc}')\n",
    "print(f\"Best Model: {final_model} Test Accuracy: {test_accuracy:.2f}\")"
   ]
  },
  {
   "cell_type": "markdown",
   "metadata": {},
   "source": [
    "In this project we attempted to test three groups of data, being the testing data, the training and the validation data. We examined the features of the data, and created a confusion matrix. We also examined the predicted value, recall, precision, and F1 score. To mitigate the class imbalance and improve the model's ability to generalize and accurately predict both classes, We applied the following balancing techniques: Over-sampling the Minority Class & Under-sampling the Majority Class.\n",
    "After balancing the dataset using the chosen technique, I proceeded with training the models and evaluating their performance using F1 score and ROC-AUC, which are better metrics for imbalanced datasets.\n",
    "We tested this data based on the 'Exited' dataset and compared all three sets. Finally we altered the hyperparameters and and examined the linear regression, decision tree of the validation set."
   ]
  }
 ],
 "metadata": {
  "ExecuteTimeLog": [
   {
    "duration": 593,
    "start_time": "2024-06-12T15:31:10.505Z"
   },
   {
    "duration": 38,
    "start_time": "2024-06-12T15:31:37.061Z"
   },
   {
    "duration": 42,
    "start_time": "2024-06-12T15:31:41.124Z"
   },
   {
    "duration": 19,
    "start_time": "2024-06-12T15:31:48.196Z"
   },
   {
    "duration": 6,
    "start_time": "2024-06-12T15:32:46.734Z"
   },
   {
    "duration": 360,
    "start_time": "2024-06-14T17:16:41.515Z"
   },
   {
    "duration": 516,
    "start_time": "2024-06-14T17:16:49.512Z"
   },
   {
    "duration": 44,
    "start_time": "2024-06-14T17:16:50.032Z"
   },
   {
    "duration": 25,
    "start_time": "2024-06-14T17:16:50.079Z"
   },
   {
    "duration": 5,
    "start_time": "2024-06-14T17:16:50.278Z"
   },
   {
    "duration": 928,
    "start_time": "2024-06-14T17:16:50.965Z"
   },
   {
    "duration": 86,
    "start_time": "2024-06-14T17:17:16.774Z"
   },
   {
    "duration": 76,
    "start_time": "2024-06-14T17:18:24.200Z"
   },
   {
    "duration": 784,
    "start_time": "2024-06-14T17:19:05.812Z"
   },
   {
    "duration": 26,
    "start_time": "2024-06-14T17:19:06.601Z"
   },
   {
    "duration": 19,
    "start_time": "2024-06-14T17:19:06.629Z"
   },
   {
    "duration": 5,
    "start_time": "2024-06-14T17:19:06.652Z"
   },
   {
    "duration": 142,
    "start_time": "2024-06-14T17:19:06.877Z"
   },
   {
    "duration": 12,
    "start_time": "2024-06-14T17:19:18.541Z"
   },
   {
    "duration": 6,
    "start_time": "2024-06-14T17:23:20.484Z"
   },
   {
    "duration": 6,
    "start_time": "2024-06-14T17:23:25.078Z"
   },
   {
    "duration": 7,
    "start_time": "2024-06-14T17:23:55.946Z"
   },
   {
    "duration": 17,
    "start_time": "2024-06-14T17:23:56.305Z"
   },
   {
    "duration": 8,
    "start_time": "2024-06-14T17:25:31.375Z"
   },
   {
    "duration": 10,
    "start_time": "2024-06-14T17:25:36.027Z"
   },
   {
    "duration": 6,
    "start_time": "2024-06-14T17:25:46.471Z"
   },
   {
    "duration": 11,
    "start_time": "2024-06-14T17:25:46.726Z"
   },
   {
    "duration": 9,
    "start_time": "2024-06-14T17:25:46.963Z"
   },
   {
    "duration": 25,
    "start_time": "2024-06-14T17:26:04.994Z"
   },
   {
    "duration": 44,
    "start_time": "2024-06-14T17:26:23.799Z"
   },
   {
    "duration": 25,
    "start_time": "2024-06-14T17:26:24.402Z"
   },
   {
    "duration": 18,
    "start_time": "2024-06-14T17:26:24.668Z"
   },
   {
    "duration": 5,
    "start_time": "2024-06-14T17:26:24.893Z"
   },
   {
    "duration": 6,
    "start_time": "2024-06-14T17:26:25.076Z"
   },
   {
    "duration": 12,
    "start_time": "2024-06-14T17:26:25.262Z"
   },
   {
    "duration": 9,
    "start_time": "2024-06-14T17:26:25.448Z"
   },
   {
    "duration": 69,
    "start_time": "2024-06-14T17:26:25.676Z"
   },
   {
    "duration": 8,
    "start_time": "2024-06-14T17:26:50.438Z"
   },
   {
    "duration": 361,
    "start_time": "2024-06-14T17:26:51.052Z"
   },
   {
    "duration": 29,
    "start_time": "2024-06-14T17:27:32.522Z"
   },
   {
    "duration": 8,
    "start_time": "2024-06-14T17:27:42.089Z"
   },
   {
    "duration": 18,
    "start_time": "2024-06-14T17:27:57.653Z"
   },
   {
    "duration": 22,
    "start_time": "2024-06-14T17:28:10.266Z"
   },
   {
    "duration": 8,
    "start_time": "2024-06-14T17:29:16.419Z"
   },
   {
    "duration": 57,
    "start_time": "2024-06-14T17:29:17.021Z"
   },
   {
    "duration": 6,
    "start_time": "2024-06-14T17:29:38.144Z"
   },
   {
    "duration": 24,
    "start_time": "2024-06-14T17:29:38.387Z"
   },
   {
    "duration": 19,
    "start_time": "2024-06-14T17:29:38.566Z"
   },
   {
    "duration": 4,
    "start_time": "2024-06-14T17:29:38.758Z"
   },
   {
    "duration": 6,
    "start_time": "2024-06-14T17:29:38.966Z"
   },
   {
    "duration": 11,
    "start_time": "2024-06-14T17:29:39.135Z"
   },
   {
    "duration": 10,
    "start_time": "2024-06-14T17:29:39.295Z"
   },
   {
    "duration": 29,
    "start_time": "2024-06-14T17:29:39.487Z"
   },
   {
    "duration": 7,
    "start_time": "2024-06-14T17:29:44.079Z"
   },
   {
    "duration": 19,
    "start_time": "2024-06-14T17:29:44.560Z"
   },
   {
    "duration": 27,
    "start_time": "2024-06-14T17:31:55.117Z"
   },
   {
    "duration": 13,
    "start_time": "2024-06-14T17:32:15.845Z"
   },
   {
    "duration": 25,
    "start_time": "2024-06-14T17:32:16.152Z"
   },
   {
    "duration": 18,
    "start_time": "2024-06-14T17:32:16.360Z"
   },
   {
    "duration": 5,
    "start_time": "2024-06-14T17:32:16.557Z"
   },
   {
    "duration": 6,
    "start_time": "2024-06-14T17:32:16.758Z"
   },
   {
    "duration": 13,
    "start_time": "2024-06-14T17:32:16.946Z"
   },
   {
    "duration": 8,
    "start_time": "2024-06-14T17:32:17.152Z"
   },
   {
    "duration": 30,
    "start_time": "2024-06-14T17:32:17.367Z"
   },
   {
    "duration": 6,
    "start_time": "2024-06-14T17:32:17.517Z"
   },
   {
    "duration": 16,
    "start_time": "2024-06-14T17:32:17.729Z"
   },
   {
    "duration": 108,
    "start_time": "2024-06-14T17:32:18.189Z"
   },
   {
    "duration": 7,
    "start_time": "2024-06-14T17:33:01.915Z"
   },
   {
    "duration": 104,
    "start_time": "2024-06-14T17:33:43.947Z"
   },
   {
    "duration": 31,
    "start_time": "2024-06-14T17:34:09.230Z"
   },
   {
    "duration": 4,
    "start_time": "2024-06-14T17:34:24.794Z"
   },
   {
    "duration": 23,
    "start_time": "2024-06-14T17:34:25.213Z"
   },
   {
    "duration": 18,
    "start_time": "2024-06-14T17:34:25.381Z"
   },
   {
    "duration": 4,
    "start_time": "2024-06-14T17:34:25.594Z"
   },
   {
    "duration": 6,
    "start_time": "2024-06-14T17:34:25.738Z"
   },
   {
    "duration": 17,
    "start_time": "2024-06-14T17:34:25.947Z"
   },
   {
    "duration": 11,
    "start_time": "2024-06-14T17:34:26.127Z"
   },
   {
    "duration": 40,
    "start_time": "2024-06-14T17:34:26.311Z"
   },
   {
    "duration": 7,
    "start_time": "2024-06-14T17:34:26.556Z"
   },
   {
    "duration": 17,
    "start_time": "2024-06-14T17:34:27.550Z"
   },
   {
    "duration": 117,
    "start_time": "2024-06-14T17:34:28.271Z"
   },
   {
    "duration": 7,
    "start_time": "2024-06-14T17:34:29.047Z"
   },
   {
    "duration": 154,
    "start_time": "2024-06-14T17:34:29.763Z"
   },
   {
    "duration": 29,
    "start_time": "2024-06-14T17:35:08.301Z"
   },
   {
    "duration": 316,
    "start_time": "2024-06-14T17:36:59.405Z"
   },
   {
    "duration": 141,
    "start_time": "2024-06-14T17:37:28.384Z"
   },
   {
    "duration": 4,
    "start_time": "2024-06-14T17:38:40.941Z"
   },
   {
    "duration": 25,
    "start_time": "2024-06-14T17:38:41.149Z"
   },
   {
    "duration": 22,
    "start_time": "2024-06-14T17:38:41.336Z"
   },
   {
    "duration": 4,
    "start_time": "2024-06-14T17:38:41.489Z"
   },
   {
    "duration": 6,
    "start_time": "2024-06-14T17:38:41.684Z"
   },
   {
    "duration": 12,
    "start_time": "2024-06-14T17:38:41.882Z"
   },
   {
    "duration": 8,
    "start_time": "2024-06-14T17:38:42.075Z"
   },
   {
    "duration": 135,
    "start_time": "2024-06-14T17:38:42.256Z"
   },
   {
    "duration": 7,
    "start_time": "2024-06-14T17:38:42.426Z"
   },
   {
    "duration": 20,
    "start_time": "2024-06-14T17:38:42.611Z"
   },
   {
    "duration": 141,
    "start_time": "2024-06-14T17:38:42.796Z"
   },
   {
    "duration": 7,
    "start_time": "2024-06-14T17:38:42.978Z"
   },
   {
    "duration": 269,
    "start_time": "2024-06-14T17:38:43.147Z"
   },
   {
    "duration": 0,
    "start_time": "2024-06-14T17:38:43.424Z"
   },
   {
    "duration": 4,
    "start_time": "2024-06-14T17:39:35.998Z"
   },
   {
    "duration": 25,
    "start_time": "2024-06-14T17:39:36.007Z"
   },
   {
    "duration": 17,
    "start_time": "2024-06-14T17:39:36.035Z"
   },
   {
    "duration": 6,
    "start_time": "2024-06-14T17:39:36.055Z"
   },
   {
    "duration": 9,
    "start_time": "2024-06-14T17:39:36.205Z"
   },
   {
    "duration": 12,
    "start_time": "2024-06-14T17:39:36.394Z"
   },
   {
    "duration": 10,
    "start_time": "2024-06-14T17:39:36.576Z"
   },
   {
    "duration": 5,
    "start_time": "2024-06-14T17:39:36.777Z"
   },
   {
    "duration": 49,
    "start_time": "2024-06-14T17:39:37.142Z"
   },
   {
    "duration": 7,
    "start_time": "2024-06-14T17:39:37.763Z"
   },
   {
    "duration": 21,
    "start_time": "2024-06-14T17:39:38.155Z"
   },
   {
    "duration": 124,
    "start_time": "2024-06-14T17:39:38.668Z"
   },
   {
    "duration": 6,
    "start_time": "2024-06-14T17:39:39.393Z"
   },
   {
    "duration": 198,
    "start_time": "2024-06-14T17:39:40.116Z"
   },
   {
    "duration": 21,
    "start_time": "2024-06-14T17:39:41.082Z"
   },
   {
    "duration": 34,
    "start_time": "2024-06-14T17:40:10.579Z"
   },
   {
    "duration": 32,
    "start_time": "2024-06-14T17:40:31.307Z"
   },
   {
    "duration": 115,
    "start_time": "2024-06-14T17:40:46.016Z"
   },
   {
    "duration": 172,
    "start_time": "2024-06-14T17:41:02.746Z"
   },
   {
    "duration": 8,
    "start_time": "2024-06-14T17:41:43.068Z"
   },
   {
    "duration": 9,
    "start_time": "2024-06-14T17:41:52.238Z"
   },
   {
    "duration": 8,
    "start_time": "2024-06-14T17:42:00.387Z"
   },
   {
    "duration": 37,
    "start_time": "2024-06-14T17:43:25.953Z"
   },
   {
    "duration": 652,
    "start_time": "2024-06-14T17:43:41.787Z"
   },
   {
    "duration": 4,
    "start_time": "2024-06-14T17:43:56.023Z"
   },
   {
    "duration": 5,
    "start_time": "2024-06-14T17:45:00.535Z"
   },
   {
    "duration": 11,
    "start_time": "2024-06-14T17:53:08.612Z"
   },
   {
    "duration": 7,
    "start_time": "2024-06-14T17:59:00.449Z"
   },
   {
    "duration": 4,
    "start_time": "2024-06-14T18:01:18.576Z"
   },
   {
    "duration": 4,
    "start_time": "2024-06-14T18:07:48.095Z"
   },
   {
    "duration": 1313,
    "start_time": "2024-06-16T15:27:14.586Z"
   },
   {
    "duration": 39,
    "start_time": "2024-06-16T15:27:15.903Z"
   },
   {
    "duration": 25,
    "start_time": "2024-06-16T15:27:15.945Z"
   },
   {
    "duration": 5,
    "start_time": "2024-06-16T15:27:15.974Z"
   },
   {
    "duration": 6,
    "start_time": "2024-06-16T15:27:15.984Z"
   },
   {
    "duration": 41,
    "start_time": "2024-06-16T15:27:15.992Z"
   },
   {
    "duration": 9,
    "start_time": "2024-06-16T15:27:16.036Z"
   },
   {
    "duration": 4,
    "start_time": "2024-06-16T15:27:16.047Z"
   },
   {
    "duration": 471,
    "start_time": "2024-06-16T15:27:16.055Z"
   },
   {
    "duration": 0,
    "start_time": "2024-06-16T15:27:16.530Z"
   },
   {
    "duration": 0,
    "start_time": "2024-06-16T15:27:16.532Z"
   },
   {
    "duration": 0,
    "start_time": "2024-06-16T15:27:16.533Z"
   },
   {
    "duration": 0,
    "start_time": "2024-06-16T15:27:16.536Z"
   },
   {
    "duration": 0,
    "start_time": "2024-06-16T15:27:16.538Z"
   },
   {
    "duration": 0,
    "start_time": "2024-06-16T15:27:16.540Z"
   },
   {
    "duration": 0,
    "start_time": "2024-06-16T15:27:16.543Z"
   },
   {
    "duration": 0,
    "start_time": "2024-06-16T15:27:16.545Z"
   },
   {
    "duration": 0,
    "start_time": "2024-06-16T15:27:16.548Z"
   },
   {
    "duration": 0,
    "start_time": "2024-06-16T15:27:16.550Z"
   },
   {
    "duration": 0,
    "start_time": "2024-06-16T15:27:16.552Z"
   },
   {
    "duration": 0,
    "start_time": "2024-06-16T15:27:16.555Z"
   },
   {
    "duration": 0,
    "start_time": "2024-06-16T15:27:16.558Z"
   },
   {
    "duration": 30,
    "start_time": "2024-06-16T15:28:38.902Z"
   },
   {
    "duration": 8,
    "start_time": "2024-06-16T15:28:40.947Z"
   },
   {
    "duration": 22,
    "start_time": "2024-06-16T15:28:41.780Z"
   },
   {
    "duration": 4,
    "start_time": "2024-06-16T15:28:42.132Z"
   },
   {
    "duration": 117,
    "start_time": "2024-06-16T15:28:42.987Z"
   },
   {
    "duration": 6,
    "start_time": "2024-06-16T15:28:44.169Z"
   },
   {
    "duration": 191,
    "start_time": "2024-06-16T15:28:44.940Z"
   },
   {
    "duration": 10,
    "start_time": "2024-06-16T15:28:45.755Z"
   },
   {
    "duration": 22,
    "start_time": "2024-06-16T15:28:46.584Z"
   },
   {
    "duration": 10,
    "start_time": "2024-06-16T15:28:47.487Z"
   },
   {
    "duration": 8,
    "start_time": "2024-06-16T15:28:48.250Z"
   },
   {
    "duration": 7,
    "start_time": "2024-06-16T15:28:48.800Z"
   },
   {
    "duration": 33,
    "start_time": "2024-06-16T15:28:49.375Z"
   },
   {
    "duration": 665,
    "start_time": "2024-06-16T15:28:50.007Z"
   },
   {
    "duration": 1215,
    "start_time": "2024-06-16T15:33:11.213Z"
   },
   {
    "duration": 24,
    "start_time": "2024-06-16T15:33:12.431Z"
   },
   {
    "duration": 24,
    "start_time": "2024-06-16T15:33:12.458Z"
   },
   {
    "duration": 5,
    "start_time": "2024-06-16T15:33:12.484Z"
   },
   {
    "duration": 7,
    "start_time": "2024-06-16T15:33:12.526Z"
   },
   {
    "duration": 13,
    "start_time": "2024-06-16T15:33:12.536Z"
   },
   {
    "duration": 9,
    "start_time": "2024-06-16T15:33:12.551Z"
   },
   {
    "duration": 4,
    "start_time": "2024-06-16T15:33:12.563Z"
   },
   {
    "duration": 468,
    "start_time": "2024-06-16T15:33:12.570Z"
   },
   {
    "duration": 0,
    "start_time": "2024-06-16T15:33:13.042Z"
   },
   {
    "duration": 0,
    "start_time": "2024-06-16T15:33:13.044Z"
   },
   {
    "duration": 0,
    "start_time": "2024-06-16T15:33:13.045Z"
   },
   {
    "duration": 0,
    "start_time": "2024-06-16T15:33:13.047Z"
   },
   {
    "duration": 0,
    "start_time": "2024-06-16T15:33:13.049Z"
   },
   {
    "duration": 0,
    "start_time": "2024-06-16T15:33:13.051Z"
   },
   {
    "duration": 0,
    "start_time": "2024-06-16T15:33:13.053Z"
   },
   {
    "duration": 0,
    "start_time": "2024-06-16T15:33:13.055Z"
   },
   {
    "duration": 0,
    "start_time": "2024-06-16T15:33:13.057Z"
   },
   {
    "duration": 0,
    "start_time": "2024-06-16T15:33:13.059Z"
   },
   {
    "duration": 0,
    "start_time": "2024-06-16T15:33:13.061Z"
   },
   {
    "duration": 0,
    "start_time": "2024-06-16T15:33:13.063Z"
   },
   {
    "duration": 0,
    "start_time": "2024-06-16T15:33:13.066Z"
   },
   {
    "duration": 1187,
    "start_time": "2024-06-16T19:56:14.479Z"
   },
   {
    "duration": 38,
    "start_time": "2024-06-16T19:56:15.669Z"
   },
   {
    "duration": 24,
    "start_time": "2024-06-16T19:56:15.709Z"
   },
   {
    "duration": 5,
    "start_time": "2024-06-16T19:56:19.907Z"
   },
   {
    "duration": 7,
    "start_time": "2024-06-16T19:56:27.006Z"
   },
   {
    "duration": 13,
    "start_time": "2024-06-16T19:56:27.669Z"
   },
   {
    "duration": 10,
    "start_time": "2024-06-16T19:56:28.181Z"
   },
   {
    "duration": 3,
    "start_time": "2024-06-16T19:56:29.258Z"
   },
   {
    "duration": 436,
    "start_time": "2024-06-16T19:56:29.989Z"
   },
   {
    "duration": 33,
    "start_time": "2024-06-16T19:56:39.486Z"
   },
   {
    "duration": 7,
    "start_time": "2024-06-16T19:56:41.272Z"
   },
   {
    "duration": 18,
    "start_time": "2024-06-16T19:56:42.355Z"
   },
   {
    "duration": 4,
    "start_time": "2024-06-16T19:56:42.708Z"
   },
   {
    "duration": 117,
    "start_time": "2024-06-16T19:56:44.990Z"
   },
   {
    "duration": 8,
    "start_time": "2024-06-16T19:56:46.125Z"
   },
   {
    "duration": 226,
    "start_time": "2024-06-16T19:56:46.990Z"
   },
   {
    "duration": 10,
    "start_time": "2024-06-16T19:56:47.958Z"
   },
   {
    "duration": 21,
    "start_time": "2024-06-16T19:56:48.854Z"
   },
   {
    "duration": 9,
    "start_time": "2024-06-16T19:56:49.850Z"
   },
   {
    "duration": 9,
    "start_time": "2024-06-16T19:56:50.794Z"
   },
   {
    "duration": 9,
    "start_time": "2024-06-16T19:56:51.572Z"
   },
   {
    "duration": 35,
    "start_time": "2024-06-16T19:56:52.322Z"
   },
   {
    "duration": 670,
    "start_time": "2024-06-16T19:56:53.588Z"
   },
   {
    "duration": 315,
    "start_time": "2024-06-17T20:16:00.790Z"
   },
   {
    "duration": 22,
    "start_time": "2024-06-17T20:16:04.230Z"
   },
   {
    "duration": 20,
    "start_time": "2024-06-17T20:16:04.869Z"
   },
   {
    "duration": 1224,
    "start_time": "2024-06-17T20:16:06.940Z"
   },
   {
    "duration": 31,
    "start_time": "2024-06-17T20:16:08.168Z"
   },
   {
    "duration": 39,
    "start_time": "2024-06-17T20:16:08.205Z"
   },
   {
    "duration": 21,
    "start_time": "2024-06-17T20:16:21.082Z"
   },
   {
    "duration": 6,
    "start_time": "2024-06-17T20:20:48.014Z"
   },
   {
    "duration": 7,
    "start_time": "2024-06-17T20:21:13.019Z"
   },
   {
    "duration": 18,
    "start_time": "2024-06-17T20:22:15.228Z"
   },
   {
    "duration": 4,
    "start_time": "2024-06-17T20:22:41.123Z"
   },
   {
    "duration": 4,
    "start_time": "2024-06-17T20:25:13.596Z"
   },
   {
    "duration": 1257,
    "start_time": "2024-06-17T20:26:04.725Z"
   },
   {
    "duration": 4,
    "start_time": "2024-06-17T20:26:14.862Z"
   },
   {
    "duration": 24,
    "start_time": "2024-06-17T20:26:15.276Z"
   },
   {
    "duration": 19,
    "start_time": "2024-06-17T20:26:15.488Z"
   },
   {
    "duration": 4,
    "start_time": "2024-06-17T20:26:15.750Z"
   },
   {
    "duration": 7,
    "start_time": "2024-06-17T20:26:16.441Z"
   },
   {
    "duration": 18,
    "start_time": "2024-06-17T20:26:17.373Z"
   },
   {
    "duration": 3,
    "start_time": "2024-06-17T20:26:17.876Z"
   },
   {
    "duration": 99,
    "start_time": "2024-06-17T20:26:18.535Z"
   },
   {
    "duration": 220,
    "start_time": "2024-06-17T20:26:48.184Z"
   },
   {
    "duration": 7,
    "start_time": "2024-06-17T20:27:12.505Z"
   },
   {
    "duration": 6,
    "start_time": "2024-06-17T20:27:18.232Z"
   },
   {
    "duration": 6,
    "start_time": "2024-06-17T20:28:00.526Z"
   },
   {
    "duration": 119,
    "start_time": "2024-06-17T20:28:05.528Z"
   },
   {
    "duration": 102,
    "start_time": "2024-06-17T20:28:56.660Z"
   },
   {
    "duration": 5,
    "start_time": "2024-06-17T20:29:12.203Z"
   },
   {
    "duration": 109,
    "start_time": "2024-06-17T20:29:53.157Z"
   },
   {
    "duration": 886,
    "start_time": "2024-06-17T20:30:36.635Z"
   },
   {
    "duration": 102,
    "start_time": "2024-06-17T20:30:45.304Z"
   },
   {
    "duration": 5,
    "start_time": "2024-06-17T20:31:09.550Z"
   },
   {
    "duration": 5,
    "start_time": "2024-06-17T20:31:10.389Z"
   },
   {
    "duration": 5,
    "start_time": "2024-06-17T20:31:44.794Z"
   },
   {
    "duration": 5,
    "start_time": "2024-06-17T20:32:04.762Z"
   },
   {
    "duration": 4,
    "start_time": "2024-06-17T20:33:36.909Z"
   },
   {
    "duration": 4,
    "start_time": "2024-06-17T20:33:58.831Z"
   },
   {
    "duration": 10,
    "start_time": "2024-06-17T20:34:54.636Z"
   },
   {
    "duration": 5,
    "start_time": "2024-06-17T20:35:13.915Z"
   },
   {
    "duration": 27,
    "start_time": "2024-06-17T20:35:19.680Z"
   },
   {
    "duration": 7,
    "start_time": "2024-06-17T20:36:20.606Z"
   },
   {
    "duration": 13,
    "start_time": "2024-06-17T20:36:24.551Z"
   },
   {
    "duration": 10,
    "start_time": "2024-06-17T20:38:38.342Z"
   },
   {
    "duration": 10,
    "start_time": "2024-06-17T20:39:29.568Z"
   },
   {
    "duration": 3,
    "start_time": "2024-06-17T20:39:33.312Z"
   },
   {
    "duration": 57,
    "start_time": "2024-06-17T20:39:33.830Z"
   },
   {
    "duration": 9,
    "start_time": "2024-06-17T20:40:04.990Z"
   },
   {
    "duration": 4,
    "start_time": "2024-06-17T20:40:05.781Z"
   },
   {
    "duration": 53,
    "start_time": "2024-06-17T20:40:06.276Z"
   },
   {
    "duration": 4,
    "start_time": "2024-06-17T20:40:48.153Z"
   },
   {
    "duration": 5,
    "start_time": "2024-06-17T20:40:49.375Z"
   },
   {
    "duration": 100,
    "start_time": "2024-06-17T20:41:08.468Z"
   },
   {
    "duration": 9,
    "start_time": "2024-06-17T20:41:36.594Z"
   },
   {
    "duration": 4,
    "start_time": "2024-06-17T20:41:37.350Z"
   },
   {
    "duration": 71,
    "start_time": "2024-06-17T20:41:37.877Z"
   },
   {
    "duration": 169,
    "start_time": "2024-06-17T20:41:41.199Z"
   },
   {
    "duration": 7,
    "start_time": "2024-06-17T20:41:42.076Z"
   },
   {
    "duration": 55,
    "start_time": "2024-06-17T20:41:43.165Z"
   },
   {
    "duration": 9,
    "start_time": "2024-06-17T20:41:43.867Z"
   },
   {
    "duration": 21,
    "start_time": "2024-06-17T20:41:45.570Z"
   },
   {
    "duration": 9,
    "start_time": "2024-06-17T20:41:46.508Z"
   },
   {
    "duration": 8,
    "start_time": "2024-06-17T20:41:49.473Z"
   },
   {
    "duration": 12,
    "start_time": "2024-06-17T20:41:50.780Z"
   },
   {
    "duration": 63,
    "start_time": "2024-06-17T20:41:52.245Z"
   },
   {
    "duration": 1004,
    "start_time": "2024-06-17T20:41:53.336Z"
   },
   {
    "duration": 13,
    "start_time": "2024-06-17T20:43:33.886Z"
   },
   {
    "duration": 9,
    "start_time": "2024-06-17T20:43:34.244Z"
   },
   {
    "duration": 4,
    "start_time": "2024-06-17T20:43:35.558Z"
   },
   {
    "duration": 68,
    "start_time": "2024-06-17T20:43:36.066Z"
   },
   {
    "duration": 183,
    "start_time": "2024-06-17T20:43:39.086Z"
   },
   {
    "duration": 7,
    "start_time": "2024-06-17T20:43:40.400Z"
   },
   {
    "duration": 318,
    "start_time": "2024-06-17T20:43:41.091Z"
   },
   {
    "duration": 22,
    "start_time": "2024-06-17T20:43:42.060Z"
   },
   {
    "duration": 21,
    "start_time": "2024-06-17T20:43:43.134Z"
   },
   {
    "duration": 10,
    "start_time": "2024-06-17T20:43:44.404Z"
   },
   {
    "duration": 9,
    "start_time": "2024-06-17T20:43:45.209Z"
   },
   {
    "duration": 9,
    "start_time": "2024-06-17T20:43:45.939Z"
   },
   {
    "duration": 64,
    "start_time": "2024-06-17T20:43:46.540Z"
   },
   {
    "duration": 1056,
    "start_time": "2024-06-17T20:43:47.245Z"
   },
   {
    "duration": 14,
    "start_time": "2024-06-17T20:46:28.539Z"
   },
   {
    "duration": 1200,
    "start_time": "2024-06-17T20:46:43.309Z"
   },
   {
    "duration": 26,
    "start_time": "2024-06-17T20:46:44.512Z"
   },
   {
    "duration": 26,
    "start_time": "2024-06-17T20:46:44.542Z"
   },
   {
    "duration": 34,
    "start_time": "2024-06-17T20:46:44.572Z"
   },
   {
    "duration": 9,
    "start_time": "2024-06-17T20:46:44.612Z"
   },
   {
    "duration": 12,
    "start_time": "2024-06-17T20:46:44.625Z"
   },
   {
    "duration": 444,
    "start_time": "2024-06-17T20:46:44.640Z"
   },
   {
    "duration": 0,
    "start_time": "2024-06-17T20:46:45.089Z"
   },
   {
    "duration": 0,
    "start_time": "2024-06-17T20:46:45.092Z"
   },
   {
    "duration": 0,
    "start_time": "2024-06-17T20:46:45.106Z"
   },
   {
    "duration": 0,
    "start_time": "2024-06-17T20:46:45.108Z"
   },
   {
    "duration": 0,
    "start_time": "2024-06-17T20:46:45.111Z"
   },
   {
    "duration": 0,
    "start_time": "2024-06-17T20:46:45.113Z"
   },
   {
    "duration": 0,
    "start_time": "2024-06-17T20:46:45.115Z"
   },
   {
    "duration": 0,
    "start_time": "2024-06-17T20:46:45.117Z"
   },
   {
    "duration": 0,
    "start_time": "2024-06-17T20:46:45.120Z"
   },
   {
    "duration": 0,
    "start_time": "2024-06-17T20:46:45.122Z"
   },
   {
    "duration": 0,
    "start_time": "2024-06-17T20:46:45.123Z"
   },
   {
    "duration": 0,
    "start_time": "2024-06-17T20:46:45.125Z"
   },
   {
    "duration": 0,
    "start_time": "2024-06-17T20:46:45.126Z"
   },
   {
    "duration": 0,
    "start_time": "2024-06-17T20:46:45.129Z"
   },
   {
    "duration": 0,
    "start_time": "2024-06-17T20:46:45.131Z"
   },
   {
    "duration": 0,
    "start_time": "2024-06-17T20:46:45.133Z"
   },
   {
    "duration": 0,
    "start_time": "2024-06-17T20:46:45.135Z"
   },
   {
    "duration": 0,
    "start_time": "2024-06-17T20:46:45.138Z"
   },
   {
    "duration": 0,
    "start_time": "2024-06-17T20:46:45.140Z"
   },
   {
    "duration": 0,
    "start_time": "2024-06-17T20:46:45.142Z"
   },
   {
    "duration": 0,
    "start_time": "2024-06-17T20:46:45.209Z"
   },
   {
    "duration": 0,
    "start_time": "2024-06-17T20:46:45.211Z"
   },
   {
    "duration": 0,
    "start_time": "2024-06-17T20:46:45.214Z"
   },
   {
    "duration": 0,
    "start_time": "2024-06-17T20:46:45.216Z"
   },
   {
    "duration": 0,
    "start_time": "2024-06-17T20:46:45.219Z"
   },
   {
    "duration": 0,
    "start_time": "2024-06-17T20:46:45.221Z"
   },
   {
    "duration": 23,
    "start_time": "2024-06-17T20:46:55.910Z"
   },
   {
    "duration": 9,
    "start_time": "2024-06-17T20:49:36.925Z"
   },
   {
    "duration": 5,
    "start_time": "2024-06-17T20:50:34.000Z"
   },
   {
    "duration": 28,
    "start_time": "2024-06-17T20:57:31.516Z"
   },
   {
    "duration": 5,
    "start_time": "2024-06-17T20:57:37.038Z"
   },
   {
    "duration": 26,
    "start_time": "2024-06-17T20:57:37.521Z"
   },
   {
    "duration": 22,
    "start_time": "2024-06-17T20:57:37.916Z"
   },
   {
    "duration": 6,
    "start_time": "2024-06-17T20:57:38.301Z"
   },
   {
    "duration": 12,
    "start_time": "2024-06-17T20:57:39.025Z"
   },
   {
    "duration": 11,
    "start_time": "2024-06-17T20:57:39.684Z"
   },
   {
    "duration": 35,
    "start_time": "2024-06-17T20:57:40.545Z"
   },
   {
    "duration": 31,
    "start_time": "2024-06-17T20:58:01.629Z"
   },
   {
    "duration": 6,
    "start_time": "2024-06-17T20:58:07.331Z"
   },
   {
    "duration": 6,
    "start_time": "2024-06-17T20:58:07.610Z"
   },
   {
    "duration": 6,
    "start_time": "2024-06-17T20:58:07.939Z"
   },
   {
    "duration": 1213,
    "start_time": "2024-06-17T20:58:08.227Z"
   },
   {
    "duration": 0,
    "start_time": "2024-06-17T20:58:09.444Z"
   },
   {
    "duration": 0,
    "start_time": "2024-06-17T20:58:09.446Z"
   },
   {
    "duration": 0,
    "start_time": "2024-06-17T20:58:09.448Z"
   },
   {
    "duration": 5,
    "start_time": "2024-06-17T20:58:09.505Z"
   },
   {
    "duration": 5,
    "start_time": "2024-06-17T20:58:10.498Z"
   },
   {
    "duration": 8,
    "start_time": "2024-06-17T20:58:10.850Z"
   },
   {
    "duration": 11,
    "start_time": "2024-06-17T20:58:11.779Z"
   },
   {
    "duration": 34,
    "start_time": "2024-06-17T20:58:21.196Z"
   },
   {
    "duration": 8,
    "start_time": "2024-06-17T20:58:31.468Z"
   },
   {
    "duration": 15,
    "start_time": "2024-06-17T20:58:32.090Z"
   },
   {
    "duration": 9,
    "start_time": "2024-06-17T20:58:42.546Z"
   },
   {
    "duration": 6,
    "start_time": "2024-06-17T20:58:43.540Z"
   },
   {
    "duration": 605,
    "start_time": "2024-06-17T20:58:43.869Z"
   },
   {
    "duration": 1204,
    "start_time": "2024-06-17T20:59:33.548Z"
   },
   {
    "duration": 24,
    "start_time": "2024-06-17T20:59:34.757Z"
   },
   {
    "duration": 38,
    "start_time": "2024-06-17T20:59:34.784Z"
   },
   {
    "duration": 5,
    "start_time": "2024-06-17T20:59:34.826Z"
   },
   {
    "duration": 13,
    "start_time": "2024-06-17T20:59:34.834Z"
   },
   {
    "duration": 15,
    "start_time": "2024-06-17T20:59:34.851Z"
   },
   {
    "duration": 6,
    "start_time": "2024-06-17T20:59:34.908Z"
   },
   {
    "duration": 6,
    "start_time": "2024-06-17T20:59:34.916Z"
   },
   {
    "duration": 6,
    "start_time": "2024-06-17T20:59:34.925Z"
   },
   {
    "duration": 1540,
    "start_time": "2024-06-17T20:59:34.937Z"
   },
   {
    "duration": 0,
    "start_time": "2024-06-17T20:59:36.480Z"
   },
   {
    "duration": 1,
    "start_time": "2024-06-17T20:59:36.482Z"
   },
   {
    "duration": 0,
    "start_time": "2024-06-17T20:59:36.485Z"
   },
   {
    "duration": 0,
    "start_time": "2024-06-17T20:59:36.487Z"
   },
   {
    "duration": 0,
    "start_time": "2024-06-17T20:59:36.489Z"
   },
   {
    "duration": 0,
    "start_time": "2024-06-17T20:59:36.490Z"
   },
   {
    "duration": 0,
    "start_time": "2024-06-17T20:59:36.491Z"
   },
   {
    "duration": 0,
    "start_time": "2024-06-17T20:59:36.492Z"
   },
   {
    "duration": 0,
    "start_time": "2024-06-17T20:59:36.505Z"
   },
   {
    "duration": 0,
    "start_time": "2024-06-17T20:59:36.507Z"
   },
   {
    "duration": 0,
    "start_time": "2024-06-17T20:59:36.508Z"
   },
   {
    "duration": 0,
    "start_time": "2024-06-17T20:59:36.515Z"
   },
   {
    "duration": 0,
    "start_time": "2024-06-17T20:59:36.516Z"
   },
   {
    "duration": 0,
    "start_time": "2024-06-17T20:59:36.519Z"
   },
   {
    "duration": 0,
    "start_time": "2024-06-17T20:59:36.524Z"
   },
   {
    "duration": 0,
    "start_time": "2024-06-17T20:59:36.525Z"
   },
   {
    "duration": 0,
    "start_time": "2024-06-17T20:59:36.527Z"
   },
   {
    "duration": 0,
    "start_time": "2024-06-17T20:59:36.529Z"
   },
   {
    "duration": 0,
    "start_time": "2024-06-17T20:59:36.530Z"
   },
   {
    "duration": 0,
    "start_time": "2024-06-17T20:59:36.533Z"
   },
   {
    "duration": 0,
    "start_time": "2024-06-17T20:59:36.536Z"
   },
   {
    "duration": 1,
    "start_time": "2024-06-17T20:59:36.537Z"
   },
   {
    "duration": 0,
    "start_time": "2024-06-17T20:59:36.539Z"
   },
   {
    "duration": 4,
    "start_time": "2024-06-17T20:59:59.361Z"
   },
   {
    "duration": 4,
    "start_time": "2024-06-17T20:59:59.610Z"
   },
   {
    "duration": 5,
    "start_time": "2024-06-17T20:59:59.810Z"
   },
   {
    "duration": 5,
    "start_time": "2024-06-17T20:59:59.987Z"
   },
   {
    "duration": 4,
    "start_time": "2024-06-17T21:00:00.175Z"
   },
   {
    "duration": 5,
    "start_time": "2024-06-17T21:00:00.364Z"
   },
   {
    "duration": 8,
    "start_time": "2024-06-17T21:00:00.936Z"
   },
   {
    "duration": 5,
    "start_time": "2024-06-17T21:00:09.174Z"
   },
   {
    "duration": 4,
    "start_time": "2024-06-17T21:00:09.903Z"
   },
   {
    "duration": 5,
    "start_time": "2024-06-17T21:00:10.138Z"
   },
   {
    "duration": 5,
    "start_time": "2024-06-17T21:00:10.361Z"
   },
   {
    "duration": 6,
    "start_time": "2024-06-17T21:00:10.553Z"
   },
   {
    "duration": 4,
    "start_time": "2024-06-17T21:00:10.767Z"
   },
   {
    "duration": 5,
    "start_time": "2024-06-17T21:00:10.975Z"
   },
   {
    "duration": 8,
    "start_time": "2024-06-17T21:00:11.659Z"
   },
   {
    "duration": 6,
    "start_time": "2024-06-17T21:00:18.462Z"
   },
   {
    "duration": 4,
    "start_time": "2024-06-17T21:00:19.287Z"
   },
   {
    "duration": 6,
    "start_time": "2024-06-17T21:00:19.484Z"
   },
   {
    "duration": 5,
    "start_time": "2024-06-17T21:00:19.699Z"
   },
   {
    "duration": 4,
    "start_time": "2024-06-17T21:00:19.903Z"
   },
   {
    "duration": 4,
    "start_time": "2024-06-17T21:00:20.117Z"
   },
   {
    "duration": 4,
    "start_time": "2024-06-17T21:00:20.342Z"
   },
   {
    "duration": 9,
    "start_time": "2024-06-17T21:00:20.776Z"
   },
   {
    "duration": 304,
    "start_time": "2024-06-17T21:21:10.652Z"
   },
   {
    "duration": 1231,
    "start_time": "2024-06-17T21:21:18.837Z"
   },
   {
    "duration": 38,
    "start_time": "2024-06-17T21:21:20.072Z"
   },
   {
    "duration": 23,
    "start_time": "2024-06-17T21:21:20.113Z"
   },
   {
    "duration": 5,
    "start_time": "2024-06-17T21:21:20.139Z"
   },
   {
    "duration": 8,
    "start_time": "2024-06-17T21:21:20.150Z"
   },
   {
    "duration": 49,
    "start_time": "2024-06-17T21:21:20.161Z"
   },
   {
    "duration": 14,
    "start_time": "2024-06-17T21:21:20.213Z"
   },
   {
    "duration": 5,
    "start_time": "2024-06-17T21:21:20.231Z"
   },
   {
    "duration": 5,
    "start_time": "2024-06-17T21:21:20.239Z"
   },
   {
    "duration": 6,
    "start_time": "2024-06-17T21:21:20.247Z"
   },
   {
    "duration": 4,
    "start_time": "2024-06-17T21:21:20.257Z"
   },
   {
    "duration": 5,
    "start_time": "2024-06-17T21:21:20.307Z"
   },
   {
    "duration": 7,
    "start_time": "2024-06-17T21:21:20.315Z"
   },
   {
    "duration": 5,
    "start_time": "2024-06-17T21:21:20.328Z"
   },
   {
    "duration": 4,
    "start_time": "2024-06-17T21:21:20.336Z"
   },
   {
    "duration": 6,
    "start_time": "2024-06-17T21:21:20.343Z"
   },
   {
    "duration": 57,
    "start_time": "2024-06-17T21:21:20.352Z"
   },
   {
    "duration": 29,
    "start_time": "2024-06-17T21:21:20.412Z"
   },
   {
    "duration": 8,
    "start_time": "2024-06-17T21:21:20.444Z"
   },
   {
    "duration": 51,
    "start_time": "2024-06-17T21:21:20.455Z"
   },
   {
    "duration": 12,
    "start_time": "2024-06-17T21:21:20.509Z"
   },
   {
    "duration": 4,
    "start_time": "2024-06-17T21:21:20.525Z"
   },
   {
    "duration": 788,
    "start_time": "2024-06-17T21:21:20.532Z"
   },
   {
    "duration": 0,
    "start_time": "2024-06-17T21:21:21.323Z"
   },
   {
    "duration": 0,
    "start_time": "2024-06-17T21:21:21.325Z"
   },
   {
    "duration": 0,
    "start_time": "2024-06-17T21:21:21.327Z"
   },
   {
    "duration": 0,
    "start_time": "2024-06-17T21:21:21.330Z"
   },
   {
    "duration": 0,
    "start_time": "2024-06-17T21:21:21.332Z"
   },
   {
    "duration": 0,
    "start_time": "2024-06-17T21:21:21.335Z"
   },
   {
    "duration": 0,
    "start_time": "2024-06-17T21:21:21.337Z"
   },
   {
    "duration": 0,
    "start_time": "2024-06-17T21:21:21.340Z"
   },
   {
    "duration": 0,
    "start_time": "2024-06-17T21:21:21.342Z"
   },
   {
    "duration": 0,
    "start_time": "2024-06-17T21:21:21.343Z"
   },
   {
    "duration": 4,
    "start_time": "2024-06-17T21:21:31.175Z"
   },
   {
    "duration": 5,
    "start_time": "2024-06-17T21:21:31.729Z"
   },
   {
    "duration": 6,
    "start_time": "2024-06-17T21:21:32.049Z"
   },
   {
    "duration": 6,
    "start_time": "2024-06-17T21:21:32.332Z"
   },
   {
    "duration": 4,
    "start_time": "2024-06-17T21:21:32.894Z"
   },
   {
    "duration": 4,
    "start_time": "2024-06-17T21:21:33.161Z"
   },
   {
    "duration": 5,
    "start_time": "2024-06-17T21:21:33.404Z"
   },
   {
    "duration": 4,
    "start_time": "2024-06-17T21:21:33.632Z"
   },
   {
    "duration": 4,
    "start_time": "2024-06-17T21:21:33.860Z"
   },
   {
    "duration": 5,
    "start_time": "2024-06-17T21:21:34.079Z"
   },
   {
    "duration": 8,
    "start_time": "2024-06-17T21:21:35.257Z"
   },
   {
    "duration": 8,
    "start_time": "2024-06-17T21:21:42.615Z"
   },
   {
    "duration": 23,
    "start_time": "2024-06-17T21:21:57.642Z"
   },
   {
    "duration": 21,
    "start_time": "2024-06-17T21:21:57.895Z"
   },
   {
    "duration": 5,
    "start_time": "2024-06-17T21:21:58.145Z"
   },
   {
    "duration": 8,
    "start_time": "2024-06-17T21:21:58.881Z"
   },
   {
    "duration": 11,
    "start_time": "2024-06-17T21:21:59.471Z"
   },
   {
    "duration": 14,
    "start_time": "2024-06-17T21:22:00.409Z"
   },
   {
    "duration": 5,
    "start_time": "2024-06-17T21:22:00.751Z"
   },
   {
    "duration": 6,
    "start_time": "2024-06-17T21:22:01.712Z"
   },
   {
    "duration": 5,
    "start_time": "2024-06-17T21:22:02.509Z"
   },
   {
    "duration": 5,
    "start_time": "2024-06-17T21:22:02.895Z"
   },
   {
    "duration": 4,
    "start_time": "2024-06-17T21:22:03.299Z"
   },
   {
    "duration": 4,
    "start_time": "2024-06-17T21:22:03.637Z"
   },
   {
    "duration": 4,
    "start_time": "2024-06-17T21:22:04.040Z"
   },
   {
    "duration": 5,
    "start_time": "2024-06-17T21:22:04.379Z"
   },
   {
    "duration": 7,
    "start_time": "2024-06-17T21:22:05.343Z"
   },
   {
    "duration": 4,
    "start_time": "2024-06-17T21:22:47.222Z"
   },
   {
    "duration": 5,
    "start_time": "2024-06-17T21:22:48.068Z"
   },
   {
    "duration": 4,
    "start_time": "2024-06-17T21:22:48.545Z"
   },
   {
    "duration": 4,
    "start_time": "2024-06-17T21:22:48.730Z"
   },
   {
    "duration": 5,
    "start_time": "2024-06-17T21:22:48.919Z"
   },
   {
    "duration": 5,
    "start_time": "2024-06-17T21:22:49.111Z"
   },
   {
    "duration": 4,
    "start_time": "2024-06-17T21:22:49.319Z"
   },
   {
    "duration": 4,
    "start_time": "2024-06-17T21:22:49.527Z"
   },
   {
    "duration": 8,
    "start_time": "2024-06-17T21:22:50.204Z"
   },
   {
    "duration": 8,
    "start_time": "2024-06-17T21:23:04.271Z"
   },
   {
    "duration": 1245,
    "start_time": "2024-06-17T22:52:18.519Z"
   },
   {
    "duration": 38,
    "start_time": "2024-06-17T22:52:19.767Z"
   },
   {
    "duration": 25,
    "start_time": "2024-06-17T22:52:19.808Z"
   },
   {
    "duration": 4,
    "start_time": "2024-06-17T22:52:20.267Z"
   },
   {
    "duration": 7,
    "start_time": "2024-06-17T22:52:21.169Z"
   },
   {
    "duration": 11,
    "start_time": "2024-06-17T22:52:22.649Z"
   },
   {
    "duration": 17,
    "start_time": "2024-06-17T22:52:24.306Z"
   },
   {
    "duration": 5,
    "start_time": "2024-06-17T22:52:24.787Z"
   },
   {
    "duration": 6,
    "start_time": "2024-06-17T22:52:25.193Z"
   },
   {
    "duration": 5,
    "start_time": "2024-06-17T22:52:26.400Z"
   },
   {
    "duration": 5,
    "start_time": "2024-06-17T22:52:26.830Z"
   },
   {
    "duration": 5,
    "start_time": "2024-06-17T22:52:27.288Z"
   },
   {
    "duration": 4,
    "start_time": "2024-06-17T22:52:27.690Z"
   },
   {
    "duration": 4,
    "start_time": "2024-06-17T22:52:28.171Z"
   },
   {
    "duration": 5,
    "start_time": "2024-06-17T22:52:28.703Z"
   },
   {
    "duration": 7,
    "start_time": "2024-06-17T22:52:30.985Z"
   },
   {
    "duration": 7,
    "start_time": "2024-06-17T22:52:41.582Z"
   },
   {
    "duration": 28,
    "start_time": "2024-06-17T22:53:12.682Z"
   },
   {
    "duration": 8,
    "start_time": "2024-06-17T22:53:27.808Z"
   },
   {
    "duration": 13,
    "start_time": "2024-06-17T22:53:28.675Z"
   },
   {
    "duration": 10,
    "start_time": "2024-06-17T22:53:32.393Z"
   },
   {
    "duration": 4,
    "start_time": "2024-06-17T22:53:34.126Z"
   },
   {
    "duration": 785,
    "start_time": "2024-06-17T22:53:34.827Z"
   },
   {
    "duration": 7,
    "start_time": "2024-06-17T22:54:18.925Z"
   },
   {
    "duration": 2,
    "start_time": "2024-06-17T22:54:19.436Z"
   },
   {
    "duration": 206,
    "start_time": "2024-06-17T22:54:19.922Z"
   },
   {
    "duration": 11,
    "start_time": "2024-06-17T22:54:43.414Z"
   },
   {
    "duration": 9,
    "start_time": "2024-06-17T22:54:43.585Z"
   },
   {
    "duration": 3,
    "start_time": "2024-06-17T22:54:44.611Z"
   },
   {
    "duration": 155,
    "start_time": "2024-06-17T22:54:45.265Z"
   },
   {
    "duration": 28,
    "start_time": "2024-06-17T22:54:55.655Z"
   },
   {
    "duration": 13,
    "start_time": "2024-06-17T22:54:59.792Z"
   },
   {
    "duration": 12,
    "start_time": "2024-06-17T22:55:00.954Z"
   },
   {
    "duration": 10,
    "start_time": "2024-06-17T22:55:51.534Z"
   },
   {
    "duration": 12,
    "start_time": "2024-06-17T22:56:20.676Z"
   },
   {
    "duration": 6,
    "start_time": "2024-06-17T22:56:30.406Z"
   },
   {
    "duration": 4,
    "start_time": "2024-06-17T22:56:30.874Z"
   },
   {
    "duration": 4,
    "start_time": "2024-06-17T22:56:31.077Z"
   },
   {
    "duration": 5,
    "start_time": "2024-06-17T22:56:31.275Z"
   },
   {
    "duration": 4,
    "start_time": "2024-06-17T22:56:31.480Z"
   },
   {
    "duration": 4,
    "start_time": "2024-06-17T22:56:31.675Z"
   },
   {
    "duration": 5,
    "start_time": "2024-06-17T22:56:31.882Z"
   },
   {
    "duration": 11,
    "start_time": "2024-06-17T22:56:32.109Z"
   },
   {
    "duration": 5,
    "start_time": "2024-06-17T22:56:45.017Z"
   },
   {
    "duration": 4,
    "start_time": "2024-06-17T22:56:45.647Z"
   },
   {
    "duration": 4,
    "start_time": "2024-06-17T22:56:45.865Z"
   },
   {
    "duration": 5,
    "start_time": "2024-06-17T22:56:46.068Z"
   },
   {
    "duration": 5,
    "start_time": "2024-06-17T22:56:46.263Z"
   },
   {
    "duration": 4,
    "start_time": "2024-06-17T22:56:46.507Z"
   },
   {
    "duration": 5,
    "start_time": "2024-06-17T22:56:46.747Z"
   },
   {
    "duration": 11,
    "start_time": "2024-06-17T22:56:47.007Z"
   },
   {
    "duration": 4,
    "start_time": "2024-06-17T22:56:54.066Z"
   },
   {
    "duration": 23,
    "start_time": "2024-06-17T22:56:54.541Z"
   },
   {
    "duration": 17,
    "start_time": "2024-06-17T22:56:54.757Z"
   },
   {
    "duration": 5,
    "start_time": "2024-06-17T22:56:54.980Z"
   },
   {
    "duration": 8,
    "start_time": "2024-06-17T22:56:55.559Z"
   },
   {
    "duration": 11,
    "start_time": "2024-06-17T22:56:56.125Z"
   },
   {
    "duration": 4,
    "start_time": "2024-06-17T22:56:57.196Z"
   },
   {
    "duration": 5,
    "start_time": "2024-06-17T22:56:57.496Z"
   },
   {
    "duration": 5,
    "start_time": "2024-06-17T22:56:57.746Z"
   },
   {
    "duration": 5,
    "start_time": "2024-06-17T22:56:58.314Z"
   },
   {
    "duration": 5,
    "start_time": "2024-06-17T22:56:58.576Z"
   },
   {
    "duration": 5,
    "start_time": "2024-06-17T22:56:58.867Z"
   },
   {
    "duration": 4,
    "start_time": "2024-06-17T22:56:59.129Z"
   },
   {
    "duration": 5,
    "start_time": "2024-06-17T22:56:59.395Z"
   },
   {
    "duration": 6,
    "start_time": "2024-06-17T22:56:59.660Z"
   },
   {
    "duration": 12,
    "start_time": "2024-06-17T22:57:00.152Z"
   },
   {
    "duration": 18,
    "start_time": "2024-06-17T22:59:54.370Z"
   },
   {
    "duration": 4,
    "start_time": "2024-06-17T22:59:55.372Z"
   },
   {
    "duration": 5,
    "start_time": "2024-06-17T22:59:55.601Z"
   },
   {
    "duration": 4,
    "start_time": "2024-06-17T22:59:55.834Z"
   },
   {
    "duration": 4,
    "start_time": "2024-06-17T22:59:56.059Z"
   },
   {
    "duration": 4,
    "start_time": "2024-06-17T22:59:56.300Z"
   },
   {
    "duration": 4,
    "start_time": "2024-06-17T22:59:56.583Z"
   },
   {
    "duration": 11,
    "start_time": "2024-06-17T22:59:56.839Z"
   },
   {
    "duration": 26,
    "start_time": "2024-06-17T23:00:04.316Z"
   },
   {
    "duration": 5,
    "start_time": "2024-06-17T23:00:11.332Z"
   },
   {
    "duration": 10,
    "start_time": "2024-06-17T23:00:11.674Z"
   },
   {
    "duration": 10,
    "start_time": "2024-06-17T23:00:11.983Z"
   },
   {
    "duration": 3,
    "start_time": "2024-06-17T23:00:13.430Z"
   },
   {
    "duration": 62,
    "start_time": "2024-06-17T23:00:14.362Z"
   },
   {
    "duration": 160,
    "start_time": "2024-06-17T23:00:20.105Z"
   },
   {
    "duration": 7,
    "start_time": "2024-06-17T23:00:21.779Z"
   },
   {
    "duration": 75,
    "start_time": "2024-06-17T23:00:22.636Z"
   },
   {
    "duration": 16,
    "start_time": "2024-06-17T23:00:24.621Z"
   },
   {
    "duration": 11,
    "start_time": "2024-06-17T23:00:26.012Z"
   },
   {
    "duration": 8,
    "start_time": "2024-06-17T23:00:32.999Z"
   },
   {
    "duration": 24,
    "start_time": "2024-06-17T23:01:36.983Z"
   },
   {
    "duration": 9,
    "start_time": "2024-06-17T23:01:56.281Z"
   },
   {
    "duration": 12,
    "start_time": "2024-06-17T23:02:58.458Z"
   },
   {
    "duration": 8,
    "start_time": "2024-06-17T23:04:32.440Z"
   },
   {
    "duration": 25,
    "start_time": "2024-06-17T23:04:39.052Z"
   },
   {
    "duration": 9,
    "start_time": "2024-06-17T23:06:05.021Z"
   },
   {
    "duration": 8,
    "start_time": "2024-06-17T23:06:15.769Z"
   },
   {
    "duration": 8,
    "start_time": "2024-06-17T23:07:33.254Z"
   },
   {
    "duration": 25,
    "start_time": "2024-06-17T23:07:40.115Z"
   },
   {
    "duration": 6,
    "start_time": "2024-06-17T23:08:06.438Z"
   },
   {
    "duration": 10,
    "start_time": "2024-06-17T23:08:06.749Z"
   },
   {
    "duration": 9,
    "start_time": "2024-06-17T23:08:07.124Z"
   },
   {
    "duration": 4,
    "start_time": "2024-06-17T23:08:08.043Z"
   },
   {
    "duration": 48,
    "start_time": "2024-06-17T23:08:08.501Z"
   },
   {
    "duration": 127,
    "start_time": "2024-06-17T23:08:11.609Z"
   },
   {
    "duration": 6,
    "start_time": "2024-06-17T23:08:13.129Z"
   },
   {
    "duration": 72,
    "start_time": "2024-06-17T23:08:13.955Z"
   },
   {
    "duration": 9,
    "start_time": "2024-06-17T23:08:14.935Z"
   },
   {
    "duration": 10,
    "start_time": "2024-06-17T23:08:16.296Z"
   },
   {
    "duration": 9,
    "start_time": "2024-06-17T23:08:17.450Z"
   },
   {
    "duration": 8,
    "start_time": "2024-06-17T23:08:20.764Z"
   },
   {
    "duration": 8,
    "start_time": "2024-06-17T23:08:21.663Z"
   },
   {
    "duration": 31,
    "start_time": "2024-06-17T23:08:22.485Z"
   },
   {
    "duration": 739,
    "start_time": "2024-06-17T23:08:23.767Z"
   },
   {
    "duration": 24,
    "start_time": "2024-06-17T23:09:25.267Z"
   },
   {
    "duration": 1322,
    "start_time": "2024-06-17T23:09:33.804Z"
   },
   {
    "duration": 6,
    "start_time": "2024-06-17T23:10:01.895Z"
   },
   {
    "duration": 7,
    "start_time": "2024-06-17T23:10:04.169Z"
   },
   {
    "duration": 5,
    "start_time": "2024-06-17T23:10:05.230Z"
   },
   {
    "duration": 4,
    "start_time": "2024-06-17T23:10:05.637Z"
   },
   {
    "duration": 5,
    "start_time": "2024-06-17T23:10:06.177Z"
   },
   {
    "duration": 10,
    "start_time": "2024-06-17T23:10:06.262Z"
   },
   {
    "duration": 8,
    "start_time": "2024-06-17T23:10:07.179Z"
   },
   {
    "duration": 25,
    "start_time": "2024-06-17T23:10:09.036Z"
   },
   {
    "duration": 9,
    "start_time": "2024-06-17T23:10:16.156Z"
   },
   {
    "duration": 5,
    "start_time": "2024-06-17T23:10:16.657Z"
   },
   {
    "duration": 10,
    "start_time": "2024-06-17T23:10:17.154Z"
   },
   {
    "duration": 9,
    "start_time": "2024-06-17T23:10:17.497Z"
   },
   {
    "duration": 4,
    "start_time": "2024-06-17T23:10:18.203Z"
   },
   {
    "duration": 48,
    "start_time": "2024-06-17T23:10:18.650Z"
   },
   {
    "duration": 124,
    "start_time": "2024-06-17T23:10:20.909Z"
   },
   {
    "duration": 5,
    "start_time": "2024-06-17T23:10:22.012Z"
   },
   {
    "duration": 90,
    "start_time": "2024-06-17T23:10:23.727Z"
   },
   {
    "duration": 11,
    "start_time": "2024-06-17T23:10:25.447Z"
   },
   {
    "duration": 10,
    "start_time": "2024-06-17T23:10:26.793Z"
   },
   {
    "duration": 9,
    "start_time": "2024-06-17T23:10:27.655Z"
   },
   {
    "duration": 68,
    "start_time": "2024-06-17T23:11:47.099Z"
   },
   {
    "duration": 6,
    "start_time": "2024-06-17T23:12:02.570Z"
   },
   {
    "duration": 3,
    "start_time": "2024-06-17T23:12:05.503Z"
   },
   {
    "duration": 82,
    "start_time": "2024-06-17T23:12:05.982Z"
   },
   {
    "duration": 14,
    "start_time": "2024-06-17T23:14:11.241Z"
   },
   {
    "duration": 1250,
    "start_time": "2024-06-17T23:14:38.720Z"
   },
   {
    "duration": 33,
    "start_time": "2024-06-17T23:14:39.973Z"
   },
   {
    "duration": 25,
    "start_time": "2024-06-17T23:14:40.008Z"
   },
   {
    "duration": 4,
    "start_time": "2024-06-17T23:14:40.039Z"
   },
   {
    "duration": 7,
    "start_time": "2024-06-17T23:14:40.049Z"
   },
   {
    "duration": 56,
    "start_time": "2024-06-17T23:14:40.059Z"
   },
   {
    "duration": 12,
    "start_time": "2024-06-17T23:14:40.118Z"
   },
   {
    "duration": 8,
    "start_time": "2024-06-17T23:14:40.132Z"
   },
   {
    "duration": 10,
    "start_time": "2024-06-17T23:14:40.143Z"
   },
   {
    "duration": 49,
    "start_time": "2024-06-17T23:14:40.158Z"
   },
   {
    "duration": 8,
    "start_time": "2024-06-17T23:14:40.210Z"
   },
   {
    "duration": 6,
    "start_time": "2024-06-17T23:14:40.222Z"
   },
   {
    "duration": 15,
    "start_time": "2024-06-17T23:14:40.231Z"
   },
   {
    "duration": 9,
    "start_time": "2024-06-17T23:14:40.248Z"
   },
   {
    "duration": 68,
    "start_time": "2024-06-17T23:14:40.263Z"
   },
   {
    "duration": 9,
    "start_time": "2024-06-17T23:14:40.334Z"
   },
   {
    "duration": 1136,
    "start_time": "2024-06-17T23:14:40.347Z"
   },
   {
    "duration": 0,
    "start_time": "2024-06-17T23:14:41.488Z"
   },
   {
    "duration": 0,
    "start_time": "2024-06-17T23:14:41.491Z"
   },
   {
    "duration": 0,
    "start_time": "2024-06-17T23:14:41.506Z"
   },
   {
    "duration": 0,
    "start_time": "2024-06-17T23:14:41.509Z"
   },
   {
    "duration": 0,
    "start_time": "2024-06-17T23:14:41.511Z"
   },
   {
    "duration": 0,
    "start_time": "2024-06-17T23:14:41.513Z"
   },
   {
    "duration": 0,
    "start_time": "2024-06-17T23:14:41.515Z"
   },
   {
    "duration": 0,
    "start_time": "2024-06-17T23:14:41.517Z"
   },
   {
    "duration": 0,
    "start_time": "2024-06-17T23:14:41.519Z"
   },
   {
    "duration": 0,
    "start_time": "2024-06-17T23:14:41.523Z"
   },
   {
    "duration": 0,
    "start_time": "2024-06-17T23:14:41.525Z"
   },
   {
    "duration": 0,
    "start_time": "2024-06-17T23:14:41.528Z"
   },
   {
    "duration": 0,
    "start_time": "2024-06-17T23:14:41.530Z"
   },
   {
    "duration": 0,
    "start_time": "2024-06-17T23:14:41.532Z"
   },
   {
    "duration": 0,
    "start_time": "2024-06-17T23:14:41.534Z"
   },
   {
    "duration": 60,
    "start_time": "2024-06-17T23:14:56.320Z"
   },
   {
    "duration": 13,
    "start_time": "2024-06-17T23:15:26.844Z"
   },
   {
    "duration": 33,
    "start_time": "2024-06-17T23:16:01.787Z"
   },
   {
    "duration": 31,
    "start_time": "2024-06-17T23:16:34.326Z"
   },
   {
    "duration": 10,
    "start_time": "2024-06-17T23:16:49.808Z"
   },
   {
    "duration": 12,
    "start_time": "2024-06-17T23:16:50.203Z"
   },
   {
    "duration": 6,
    "start_time": "2024-06-17T23:16:52.049Z"
   },
   {
    "duration": 4,
    "start_time": "2024-06-17T23:16:55.534Z"
   },
   {
    "duration": 188,
    "start_time": "2024-06-17T23:16:56.086Z"
   },
   {
    "duration": 5,
    "start_time": "2024-06-17T23:17:16.484Z"
   },
   {
    "duration": 4,
    "start_time": "2024-06-17T23:17:34.318Z"
   },
   {
    "duration": 5,
    "start_time": "2024-06-17T23:17:51.228Z"
   },
   {
    "duration": 3,
    "start_time": "2024-06-17T23:17:52.221Z"
   },
   {
    "duration": 91,
    "start_time": "2024-06-17T23:17:52.700Z"
   },
   {
    "duration": 14,
    "start_time": "2024-06-17T23:19:57.009Z"
   },
   {
    "duration": 40,
    "start_time": "2024-06-17T23:20:12.316Z"
   },
   {
    "duration": 17,
    "start_time": "2024-06-17T23:20:24.134Z"
   },
   {
    "duration": 40,
    "start_time": "2024-06-17T23:20:24.517Z"
   },
   {
    "duration": 5,
    "start_time": "2024-06-17T23:20:30.044Z"
   },
   {
    "duration": 32,
    "start_time": "2024-06-17T23:20:30.429Z"
   },
   {
    "duration": 20,
    "start_time": "2024-06-17T23:20:30.636Z"
   },
   {
    "duration": 5,
    "start_time": "2024-06-17T23:20:30.845Z"
   },
   {
    "duration": 9,
    "start_time": "2024-06-17T23:20:31.230Z"
   },
   {
    "duration": 18,
    "start_time": "2024-06-17T23:20:31.435Z"
   },
   {
    "duration": 12,
    "start_time": "2024-06-17T23:20:31.819Z"
   },
   {
    "duration": 7,
    "start_time": "2024-06-17T23:20:32.001Z"
   },
   {
    "duration": 7,
    "start_time": "2024-06-17T23:20:32.790Z"
   },
   {
    "duration": 5,
    "start_time": "2024-06-17T23:20:33.374Z"
   },
   {
    "duration": 4,
    "start_time": "2024-06-17T23:20:33.771Z"
   },
   {
    "duration": 4,
    "start_time": "2024-06-17T23:20:34.153Z"
   },
   {
    "duration": 11,
    "start_time": "2024-06-17T23:20:34.351Z"
   },
   {
    "duration": 8,
    "start_time": "2024-06-17T23:20:34.514Z"
   },
   {
    "duration": 22,
    "start_time": "2024-06-17T23:20:34.965Z"
   },
   {
    "duration": 7,
    "start_time": "2024-06-17T23:20:35.294Z"
   },
   {
    "duration": 6,
    "start_time": "2024-06-17T23:20:35.625Z"
   },
   {
    "duration": 10,
    "start_time": "2024-06-17T23:20:36.071Z"
   },
   {
    "duration": 10,
    "start_time": "2024-06-17T23:20:36.511Z"
   },
   {
    "duration": 6,
    "start_time": "2024-06-17T23:20:36.925Z"
   },
   {
    "duration": 5,
    "start_time": "2024-06-17T23:20:37.448Z"
   },
   {
    "duration": 4,
    "start_time": "2024-06-17T23:20:38.119Z"
   },
   {
    "duration": 4,
    "start_time": "2024-06-17T23:20:38.813Z"
   },
   {
    "duration": 16,
    "start_time": "2024-06-17T23:20:39.555Z"
   },
   {
    "duration": 38,
    "start_time": "2024-06-17T23:20:40.169Z"
   },
   {
    "duration": 349,
    "start_time": "2024-06-17T23:20:42.571Z"
   },
   {
    "duration": 26,
    "start_time": "2024-06-17T23:22:22.784Z"
   },
   {
    "duration": 81,
    "start_time": "2024-06-17T23:22:41.101Z"
   },
   {
    "duration": 6,
    "start_time": "2024-06-17T23:22:43.372Z"
   },
   {
    "duration": 316,
    "start_time": "2024-06-17T23:22:44.804Z"
   },
   {
    "duration": 103,
    "start_time": "2024-06-17T23:23:14.523Z"
   },
   {
    "duration": 196,
    "start_time": "2024-06-17T23:23:16.159Z"
   },
   {
    "duration": 8,
    "start_time": "2024-06-17T23:23:29.108Z"
   },
   {
    "duration": 94,
    "start_time": "2024-06-17T23:23:33.913Z"
   },
   {
    "duration": 1230,
    "start_time": "2024-06-17T23:24:00.846Z"
   },
   {
    "duration": 33,
    "start_time": "2024-06-17T23:24:02.080Z"
   },
   {
    "duration": 25,
    "start_time": "2024-06-17T23:24:02.116Z"
   },
   {
    "duration": 5,
    "start_time": "2024-06-17T23:24:02.144Z"
   },
   {
    "duration": 8,
    "start_time": "2024-06-17T23:24:02.154Z"
   },
   {
    "duration": 56,
    "start_time": "2024-06-17T23:24:02.166Z"
   },
   {
    "duration": 13,
    "start_time": "2024-06-17T23:24:02.224Z"
   },
   {
    "duration": 9,
    "start_time": "2024-06-17T23:24:02.240Z"
   },
   {
    "duration": 54,
    "start_time": "2024-06-17T23:24:02.252Z"
   },
   {
    "duration": 5,
    "start_time": "2024-06-17T23:24:02.309Z"
   },
   {
    "duration": 6,
    "start_time": "2024-06-17T23:24:02.318Z"
   },
   {
    "duration": 5,
    "start_time": "2024-06-17T23:24:02.328Z"
   },
   {
    "duration": 12,
    "start_time": "2024-06-17T23:24:02.336Z"
   },
   {
    "duration": 8,
    "start_time": "2024-06-17T23:24:02.407Z"
   },
   {
    "duration": 23,
    "start_time": "2024-06-17T23:24:02.418Z"
   },
   {
    "duration": 9,
    "start_time": "2024-06-17T23:24:02.444Z"
   },
   {
    "duration": 7,
    "start_time": "2024-06-17T23:24:02.455Z"
   },
   {
    "duration": 47,
    "start_time": "2024-06-17T23:24:02.465Z"
   },
   {
    "duration": 10,
    "start_time": "2024-06-17T23:24:02.515Z"
   },
   {
    "duration": 5,
    "start_time": "2024-06-17T23:24:02.529Z"
   },
   {
    "duration": 8,
    "start_time": "2024-06-17T23:24:02.537Z"
   },
   {
    "duration": 6,
    "start_time": "2024-06-17T23:24:02.549Z"
   },
   {
    "duration": 48,
    "start_time": "2024-06-17T23:24:02.559Z"
   },
   {
    "duration": 16,
    "start_time": "2024-06-17T23:24:02.611Z"
   },
   {
    "duration": 77,
    "start_time": "2024-06-17T23:24:02.630Z"
   },
   {
    "duration": 99,
    "start_time": "2024-06-17T23:24:02.710Z"
   },
   {
    "duration": 7,
    "start_time": "2024-06-17T23:24:02.812Z"
   },
   {
    "duration": 185,
    "start_time": "2024-06-17T23:24:02.823Z"
   },
   {
    "duration": 8,
    "start_time": "2024-06-17T23:24:03.011Z"
   },
   {
    "duration": 788,
    "start_time": "2024-06-17T23:24:03.022Z"
   },
   {
    "duration": 0,
    "start_time": "2024-06-17T23:24:03.813Z"
   },
   {
    "duration": 0,
    "start_time": "2024-06-17T23:24:03.815Z"
   },
   {
    "duration": 0,
    "start_time": "2024-06-17T23:24:03.817Z"
   },
   {
    "duration": 0,
    "start_time": "2024-06-17T23:24:03.820Z"
   },
   {
    "duration": 0,
    "start_time": "2024-06-17T23:24:03.822Z"
   },
   {
    "duration": 13,
    "start_time": "2024-06-17T23:24:36.133Z"
   },
   {
    "duration": 178,
    "start_time": "2024-06-17T23:24:38.072Z"
   },
   {
    "duration": 183,
    "start_time": "2024-06-17T23:24:47.468Z"
   },
   {
    "duration": 114,
    "start_time": "2024-06-17T23:25:32.260Z"
   },
   {
    "duration": 112,
    "start_time": "2024-06-17T23:25:50.766Z"
   },
   {
    "duration": 124,
    "start_time": "2024-06-17T23:27:18.046Z"
   },
   {
    "duration": 30,
    "start_time": "2024-06-17T23:27:36.606Z"
   },
   {
    "duration": 29,
    "start_time": "2024-06-17T23:27:45.241Z"
   },
   {
    "duration": 23,
    "start_time": "2024-06-17T23:28:34.127Z"
   },
   {
    "duration": 21,
    "start_time": "2024-06-17T23:28:42.365Z"
   },
   {
    "duration": 10,
    "start_time": "2024-06-17T23:30:45.541Z"
   },
   {
    "duration": 5,
    "start_time": "2024-06-17T23:30:46.204Z"
   },
   {
    "duration": 5,
    "start_time": "2024-06-17T23:30:46.582Z"
   },
   {
    "duration": 4,
    "start_time": "2024-06-17T23:30:46.979Z"
   },
   {
    "duration": 50,
    "start_time": "2024-06-17T23:30:50.002Z"
   },
   {
    "duration": 9,
    "start_time": "2024-06-17T23:30:50.371Z"
   },
   {
    "duration": 5,
    "start_time": "2024-06-17T23:30:50.653Z"
   },
   {
    "duration": 5,
    "start_time": "2024-06-17T23:30:50.900Z"
   },
   {
    "duration": 8,
    "start_time": "2024-06-17T23:30:51.127Z"
   },
   {
    "duration": 3,
    "start_time": "2024-06-17T23:30:51.562Z"
   },
   {
    "duration": 13,
    "start_time": "2024-06-17T23:30:52.016Z"
   },
   {
    "duration": 37,
    "start_time": "2024-06-17T23:30:52.330Z"
   },
   {
    "duration": 80,
    "start_time": "2024-06-17T23:30:54.947Z"
   },
   {
    "duration": 6,
    "start_time": "2024-06-17T23:30:56.224Z"
   },
   {
    "duration": 113,
    "start_time": "2024-06-17T23:30:57.311Z"
   },
   {
    "duration": 7,
    "start_time": "2024-06-17T23:30:58.829Z"
   },
   {
    "duration": 16,
    "start_time": "2024-06-17T23:31:00.861Z"
   },
   {
    "duration": 133,
    "start_time": "2024-06-17T23:31:07.285Z"
   },
   {
    "duration": 132,
    "start_time": "2024-06-17T23:31:20.134Z"
   },
   {
    "duration": 11,
    "start_time": "2024-06-17T23:32:15.345Z"
   },
   {
    "duration": 116,
    "start_time": "2024-06-17T23:32:24.781Z"
   },
   {
    "duration": 97,
    "start_time": "2024-06-17T23:32:41.167Z"
   },
   {
    "duration": 8,
    "start_time": "2024-06-17T23:33:13.226Z"
   },
   {
    "duration": 7,
    "start_time": "2024-06-17T23:33:45.476Z"
   },
   {
    "duration": 282,
    "start_time": "2024-06-17T23:33:53.271Z"
   },
   {
    "duration": 97,
    "start_time": "2024-06-17T23:34:13.339Z"
   },
   {
    "duration": 34,
    "start_time": "2024-06-17T23:34:25.766Z"
   },
   {
    "duration": 222,
    "start_time": "2024-06-17T23:34:28.318Z"
   },
   {
    "duration": 509,
    "start_time": "2024-06-17T23:34:49.680Z"
   },
   {
    "duration": 482,
    "start_time": "2024-06-17T23:35:07.095Z"
   },
   {
    "duration": 1294,
    "start_time": "2024-06-17T23:38:53.695Z"
   },
   {
    "duration": 29,
    "start_time": "2024-06-17T23:38:54.994Z"
   },
   {
    "duration": 24,
    "start_time": "2024-06-17T23:38:55.026Z"
   },
   {
    "duration": 5,
    "start_time": "2024-06-17T23:38:55.054Z"
   },
   {
    "duration": 43,
    "start_time": "2024-06-17T23:38:55.063Z"
   },
   {
    "duration": 19,
    "start_time": "2024-06-17T23:38:55.109Z"
   },
   {
    "duration": 12,
    "start_time": "2024-06-17T23:38:55.131Z"
   },
   {
    "duration": 8,
    "start_time": "2024-06-17T23:38:55.146Z"
   },
   {
    "duration": 50,
    "start_time": "2024-06-17T23:38:55.157Z"
   },
   {
    "duration": 5,
    "start_time": "2024-06-17T23:38:55.214Z"
   },
   {
    "duration": 5,
    "start_time": "2024-06-17T23:38:55.222Z"
   },
   {
    "duration": 5,
    "start_time": "2024-06-17T23:38:55.230Z"
   },
   {
    "duration": 13,
    "start_time": "2024-06-17T23:38:55.238Z"
   },
   {
    "duration": 53,
    "start_time": "2024-06-17T23:38:55.254Z"
   },
   {
    "duration": 24,
    "start_time": "2024-06-17T23:38:55.309Z"
   },
   {
    "duration": 8,
    "start_time": "2024-06-17T23:38:55.338Z"
   },
   {
    "duration": 7,
    "start_time": "2024-06-17T23:38:55.348Z"
   },
   {
    "duration": 448,
    "start_time": "2024-06-17T23:38:55.358Z"
   },
   {
    "duration": 0,
    "start_time": "2024-06-17T23:38:55.810Z"
   },
   {
    "duration": 0,
    "start_time": "2024-06-17T23:38:55.813Z"
   },
   {
    "duration": 0,
    "start_time": "2024-06-17T23:38:55.815Z"
   },
   {
    "duration": 0,
    "start_time": "2024-06-17T23:38:55.817Z"
   },
   {
    "duration": 0,
    "start_time": "2024-06-17T23:38:55.819Z"
   },
   {
    "duration": 0,
    "start_time": "2024-06-17T23:38:55.821Z"
   },
   {
    "duration": 0,
    "start_time": "2024-06-17T23:38:55.824Z"
   },
   {
    "duration": 0,
    "start_time": "2024-06-17T23:38:55.828Z"
   },
   {
    "duration": 0,
    "start_time": "2024-06-17T23:38:55.830Z"
   },
   {
    "duration": 0,
    "start_time": "2024-06-17T23:38:55.833Z"
   },
   {
    "duration": 0,
    "start_time": "2024-06-17T23:38:55.835Z"
   },
   {
    "duration": 1,
    "start_time": "2024-06-17T23:38:55.838Z"
   },
   {
    "duration": 0,
    "start_time": "2024-06-17T23:38:55.841Z"
   },
   {
    "duration": 0,
    "start_time": "2024-06-17T23:38:55.843Z"
   },
   {
    "duration": 0,
    "start_time": "2024-06-17T23:38:55.846Z"
   },
   {
    "duration": 0,
    "start_time": "2024-06-17T23:38:55.848Z"
   },
   {
    "duration": 0,
    "start_time": "2024-06-17T23:38:55.851Z"
   },
   {
    "duration": 29,
    "start_time": "2024-06-17T23:39:12.607Z"
   },
   {
    "duration": 24,
    "start_time": "2024-06-17T23:39:27.427Z"
   },
   {
    "duration": 30,
    "start_time": "2024-06-17T23:39:34.114Z"
   },
   {
    "duration": 26,
    "start_time": "2024-06-17T23:40:03.237Z"
   },
   {
    "duration": 23,
    "start_time": "2024-06-17T23:40:14.027Z"
   },
   {
    "duration": 13,
    "start_time": "2024-06-17T23:40:26.393Z"
   },
   {
    "duration": 38,
    "start_time": "2024-06-17T23:40:26.993Z"
   },
   {
    "duration": 89,
    "start_time": "2024-06-17T23:40:29.006Z"
   },
   {
    "duration": 6,
    "start_time": "2024-06-17T23:40:29.815Z"
   },
   {
    "duration": 140,
    "start_time": "2024-06-17T23:40:30.571Z"
   },
   {
    "duration": 7,
    "start_time": "2024-06-17T23:40:31.357Z"
   },
   {
    "duration": 15,
    "start_time": "2024-06-17T23:40:32.230Z"
   },
   {
    "duration": 94915,
    "start_time": "2024-06-17T23:40:33.865Z"
   },
   {
    "duration": 0,
    "start_time": "2024-06-17T23:42:08.784Z"
   },
   {
    "duration": 8,
    "start_time": "2024-06-17T23:42:17.582Z"
   },
   {
    "duration": 16195,
    "start_time": "2024-06-17T23:42:30.543Z"
   },
   {
    "duration": 106962,
    "start_time": "2024-06-17T23:42:49.244Z"
   },
   {
    "duration": 5,
    "start_time": "2024-06-17T23:44:36.209Z"
   },
   {
    "duration": 26,
    "start_time": "2024-06-17T23:44:36.216Z"
   },
   {
    "duration": 17,
    "start_time": "2024-06-17T23:44:36.246Z"
   },
   {
    "duration": 4,
    "start_time": "2024-06-17T23:44:36.269Z"
   },
   {
    "duration": 11,
    "start_time": "2024-06-17T23:44:36.307Z"
   },
   {
    "duration": 28,
    "start_time": "2024-06-17T23:44:36.321Z"
   },
   {
    "duration": 11,
    "start_time": "2024-06-17T23:44:36.352Z"
   },
   {
    "duration": 7,
    "start_time": "2024-06-17T23:44:36.366Z"
   },
   {
    "duration": 7,
    "start_time": "2024-06-17T23:44:36.530Z"
   },
   {
    "duration": 5,
    "start_time": "2024-06-17T23:44:37.263Z"
   },
   {
    "duration": 4,
    "start_time": "2024-06-17T23:44:37.732Z"
   },
   {
    "duration": 9,
    "start_time": "2024-06-17T23:44:38.201Z"
   },
   {
    "duration": 13,
    "start_time": "2024-06-17T23:44:38.411Z"
   },
   {
    "duration": 8,
    "start_time": "2024-06-17T23:44:38.630Z"
   },
   {
    "duration": 23,
    "start_time": "2024-06-17T23:44:39.476Z"
   },
   {
    "duration": 8,
    "start_time": "2024-06-17T23:44:39.710Z"
   },
   {
    "duration": 6,
    "start_time": "2024-06-17T23:44:39.964Z"
   },
   {
    "duration": 32,
    "start_time": "2024-06-17T23:44:40.172Z"
   },
   {
    "duration": 29,
    "start_time": "2024-06-17T23:44:40.410Z"
   },
   {
    "duration": 5,
    "start_time": "2024-06-17T23:44:40.659Z"
   },
   {
    "duration": 5,
    "start_time": "2024-06-17T23:44:40.875Z"
   },
   {
    "duration": 5,
    "start_time": "2024-06-17T23:44:41.126Z"
   },
   {
    "duration": 3,
    "start_time": "2024-06-17T23:44:41.610Z"
   },
   {
    "duration": 13,
    "start_time": "2024-06-17T23:44:42.098Z"
   },
   {
    "duration": 37,
    "start_time": "2024-06-17T23:44:42.336Z"
   },
   {
    "duration": 82,
    "start_time": "2024-06-17T23:44:44.302Z"
   },
   {
    "duration": 7,
    "start_time": "2024-06-17T23:44:45.315Z"
   },
   {
    "duration": 47,
    "start_time": "2024-06-17T23:44:45.980Z"
   },
   {
    "duration": 7,
    "start_time": "2024-06-17T23:44:46.828Z"
   },
   {
    "duration": 14,
    "start_time": "2024-06-17T23:44:48.096Z"
   },
   {
    "duration": 4,
    "start_time": "2024-06-17T23:44:49.565Z"
   },
   {
    "duration": 43220,
    "start_time": "2024-06-17T23:44:50.138Z"
   },
   {
    "duration": 0,
    "start_time": "2024-06-17T23:45:33.361Z"
   },
   {
    "duration": 0,
    "start_time": "2024-06-17T23:45:33.364Z"
   },
   {
    "duration": 0,
    "start_time": "2024-06-17T23:45:33.366Z"
   },
   {
    "duration": 0,
    "start_time": "2024-06-17T23:45:33.368Z"
   },
   {
    "duration": 0,
    "start_time": "2024-06-17T23:45:33.370Z"
   },
   {
    "duration": 47357,
    "start_time": "2024-06-17T23:45:45.007Z"
   },
   {
    "duration": 28,
    "start_time": "2024-06-17T23:46:36.126Z"
   },
   {
    "duration": 5,
    "start_time": "2024-06-17T23:47:08.194Z"
   },
   {
    "duration": 24,
    "start_time": "2024-06-17T23:47:08.856Z"
   },
   {
    "duration": 18,
    "start_time": "2024-06-17T23:47:09.074Z"
   },
   {
    "duration": 5,
    "start_time": "2024-06-17T23:47:09.249Z"
   },
   {
    "duration": 7,
    "start_time": "2024-06-17T23:47:09.666Z"
   },
   {
    "duration": 17,
    "start_time": "2024-06-17T23:47:09.887Z"
   },
   {
    "duration": 12,
    "start_time": "2024-06-17T23:47:10.300Z"
   },
   {
    "duration": 7,
    "start_time": "2024-06-17T23:47:10.505Z"
   },
   {
    "duration": 8,
    "start_time": "2024-06-17T23:47:11.337Z"
   },
   {
    "duration": 5,
    "start_time": "2024-06-17T23:47:11.961Z"
   },
   {
    "duration": 4,
    "start_time": "2024-06-17T23:47:12.410Z"
   },
   {
    "duration": 4,
    "start_time": "2024-06-17T23:47:12.841Z"
   },
   {
    "duration": 11,
    "start_time": "2024-06-17T23:47:13.047Z"
   },
   {
    "duration": 7,
    "start_time": "2024-06-17T23:47:13.269Z"
   },
   {
    "duration": 22,
    "start_time": "2024-06-17T23:47:13.673Z"
   },
   {
    "duration": 8,
    "start_time": "2024-06-17T23:47:13.932Z"
   },
   {
    "duration": 6,
    "start_time": "2024-06-17T23:47:14.131Z"
   },
   {
    "duration": 34,
    "start_time": "2024-06-17T23:47:14.347Z"
   },
   {
    "duration": 28,
    "start_time": "2024-06-17T23:47:14.557Z"
   },
   {
    "duration": 4,
    "start_time": "2024-06-17T23:47:14.773Z"
   },
   {
    "duration": 5,
    "start_time": "2024-06-17T23:47:15.975Z"
   },
   {
    "duration": 6,
    "start_time": "2024-06-17T23:47:16.283Z"
   },
   {
    "duration": 3,
    "start_time": "2024-06-17T23:47:16.801Z"
   },
   {
    "duration": 13,
    "start_time": "2024-06-17T23:47:17.322Z"
   },
   {
    "duration": 37,
    "start_time": "2024-06-17T23:47:18.145Z"
   },
   {
    "duration": 80,
    "start_time": "2024-06-17T23:47:20.126Z"
   },
   {
    "duration": 8,
    "start_time": "2024-06-17T23:47:20.807Z"
   },
   {
    "duration": 122,
    "start_time": "2024-06-17T23:47:21.419Z"
   },
   {
    "duration": 7,
    "start_time": "2024-06-17T23:47:22.125Z"
   },
   {
    "duration": 14,
    "start_time": "2024-06-17T23:47:22.996Z"
   },
   {
    "duration": 9,
    "start_time": "2024-06-17T23:47:24.592Z"
   },
   {
    "duration": 28,
    "start_time": "2024-06-17T23:47:25.134Z"
   },
   {
    "duration": 25,
    "start_time": "2024-06-17T23:48:11.732Z"
   },
   {
    "duration": 25,
    "start_time": "2024-06-17T23:48:56.002Z"
   },
   {
    "duration": 13,
    "start_time": "2024-06-17T23:49:34.337Z"
   },
   {
    "duration": 5,
    "start_time": "2024-06-17T23:49:50.640Z"
   },
   {
    "duration": 4,
    "start_time": "2024-06-17T23:51:06.341Z"
   },
   {
    "duration": 23,
    "start_time": "2024-06-17T23:51:07.251Z"
   },
   {
    "duration": 23,
    "start_time": "2024-06-17T23:51:07.466Z"
   },
   {
    "duration": 5,
    "start_time": "2024-06-17T23:51:07.639Z"
   },
   {
    "duration": 9,
    "start_time": "2024-06-17T23:51:08.057Z"
   },
   {
    "duration": 16,
    "start_time": "2024-06-17T23:51:08.235Z"
   },
   {
    "duration": 11,
    "start_time": "2024-06-17T23:51:08.631Z"
   },
   {
    "duration": 7,
    "start_time": "2024-06-17T23:51:08.782Z"
   },
   {
    "duration": 8,
    "start_time": "2024-06-17T23:51:09.560Z"
   },
   {
    "duration": 5,
    "start_time": "2024-06-17T23:51:10.114Z"
   },
   {
    "duration": 4,
    "start_time": "2024-06-17T23:51:10.470Z"
   },
   {
    "duration": 4,
    "start_time": "2024-06-17T23:51:10.848Z"
   },
   {
    "duration": 10,
    "start_time": "2024-06-17T23:51:11.042Z"
   },
   {
    "duration": 8,
    "start_time": "2024-06-17T23:51:11.436Z"
   },
   {
    "duration": 21,
    "start_time": "2024-06-17T23:51:11.975Z"
   },
   {
    "duration": 8,
    "start_time": "2024-06-17T23:51:12.232Z"
   },
   {
    "duration": 5,
    "start_time": "2024-06-17T23:51:12.512Z"
   },
   {
    "duration": 36,
    "start_time": "2024-06-17T23:51:12.791Z"
   },
   {
    "duration": 32,
    "start_time": "2024-06-17T23:51:14.350Z"
   },
   {
    "duration": 6,
    "start_time": "2024-06-17T23:51:15.412Z"
   },
   {
    "duration": 5,
    "start_time": "2024-06-17T23:51:16.304Z"
   },
   {
    "duration": 4,
    "start_time": "2024-06-17T23:51:16.663Z"
   },
   {
    "duration": 3,
    "start_time": "2024-06-17T23:51:18.074Z"
   },
   {
    "duration": 16,
    "start_time": "2024-06-17T23:51:19.049Z"
   },
   {
    "duration": 42,
    "start_time": "2024-06-17T23:51:20.222Z"
   },
   {
    "duration": 80,
    "start_time": "2024-06-17T23:51:22.894Z"
   },
   {
    "duration": 7,
    "start_time": "2024-06-17T23:51:24.544Z"
   },
   {
    "duration": 125,
    "start_time": "2024-06-17T23:51:25.498Z"
   },
   {
    "duration": 9,
    "start_time": "2024-06-17T23:51:27.835Z"
   },
   {
    "duration": 15,
    "start_time": "2024-06-17T23:51:30.860Z"
   },
   {
    "duration": 2580,
    "start_time": "2024-06-17T23:51:51.796Z"
   },
   {
    "duration": 2620,
    "start_time": "2024-06-17T23:53:25.314Z"
   },
   {
    "duration": 6,
    "start_time": "2024-06-17T23:53:48.938Z"
   },
   {
    "duration": 23,
    "start_time": "2024-06-17T23:53:49.522Z"
   },
   {
    "duration": 17,
    "start_time": "2024-06-17T23:53:49.702Z"
   },
   {
    "duration": 4,
    "start_time": "2024-06-17T23:53:49.903Z"
   },
   {
    "duration": 7,
    "start_time": "2024-06-17T23:53:50.319Z"
   },
   {
    "duration": 18,
    "start_time": "2024-06-17T23:53:50.487Z"
   },
   {
    "duration": 13,
    "start_time": "2024-06-17T23:53:50.885Z"
   },
   {
    "duration": 7,
    "start_time": "2024-06-17T23:53:51.091Z"
   },
   {
    "duration": 8,
    "start_time": "2024-06-17T23:53:51.882Z"
   },
   {
    "duration": 5,
    "start_time": "2024-06-17T23:53:52.493Z"
   },
   {
    "duration": 6,
    "start_time": "2024-06-17T23:53:52.864Z"
   },
   {
    "duration": 4,
    "start_time": "2024-06-17T23:53:53.255Z"
   },
   {
    "duration": 11,
    "start_time": "2024-06-17T23:53:53.435Z"
   },
   {
    "duration": 7,
    "start_time": "2024-06-17T23:53:53.632Z"
   },
   {
    "duration": 22,
    "start_time": "2024-06-17T23:53:54.238Z"
   },
   {
    "duration": 8,
    "start_time": "2024-06-17T23:53:54.500Z"
   },
   {
    "duration": 5,
    "start_time": "2024-06-17T23:53:54.813Z"
   },
   {
    "duration": 32,
    "start_time": "2024-06-17T23:53:55.111Z"
   },
   {
    "duration": 27,
    "start_time": "2024-06-17T23:53:55.385Z"
   },
   {
    "duration": 6,
    "start_time": "2024-06-17T23:53:55.680Z"
   },
   {
    "duration": 5,
    "start_time": "2024-06-17T23:53:56.587Z"
   },
   {
    "duration": 5,
    "start_time": "2024-06-17T23:53:56.854Z"
   },
   {
    "duration": 3,
    "start_time": "2024-06-17T23:53:57.267Z"
   },
   {
    "duration": 13,
    "start_time": "2024-06-17T23:53:57.722Z"
   },
   {
    "duration": 38,
    "start_time": "2024-06-17T23:53:57.992Z"
   },
   {
    "duration": 81,
    "start_time": "2024-06-17T23:54:00.005Z"
   },
   {
    "duration": 6,
    "start_time": "2024-06-17T23:54:00.498Z"
   },
   {
    "duration": 129,
    "start_time": "2024-06-17T23:54:01.000Z"
   },
   {
    "duration": 8,
    "start_time": "2024-06-17T23:54:01.636Z"
   },
   {
    "duration": 19,
    "start_time": "2024-06-17T23:54:03.069Z"
   },
   {
    "duration": 2654,
    "start_time": "2024-06-17T23:54:04.170Z"
   },
   {
    "duration": 34,
    "start_time": "2024-06-17T23:56:26.149Z"
   },
   {
    "duration": 1209,
    "start_time": "2024-06-17T23:56:41.197Z"
   },
   {
    "duration": 26,
    "start_time": "2024-06-17T23:56:42.409Z"
   },
   {
    "duration": 27,
    "start_time": "2024-06-17T23:56:42.438Z"
   },
   {
    "duration": 36,
    "start_time": "2024-06-17T23:56:42.470Z"
   },
   {
    "duration": 10,
    "start_time": "2024-06-17T23:56:42.508Z"
   },
   {
    "duration": 22,
    "start_time": "2024-06-17T23:56:42.521Z"
   },
   {
    "duration": 12,
    "start_time": "2024-06-17T23:56:42.548Z"
   },
   {
    "duration": 45,
    "start_time": "2024-06-17T23:56:42.562Z"
   },
   {
    "duration": 8,
    "start_time": "2024-06-17T23:56:42.610Z"
   },
   {
    "duration": 5,
    "start_time": "2024-06-17T23:56:42.624Z"
   },
   {
    "duration": 4,
    "start_time": "2024-06-17T23:56:42.632Z"
   },
   {
    "duration": 5,
    "start_time": "2024-06-17T23:56:42.640Z"
   },
   {
    "duration": 58,
    "start_time": "2024-06-17T23:56:42.648Z"
   },
   {
    "duration": 8,
    "start_time": "2024-06-17T23:56:42.709Z"
   },
   {
    "duration": 24,
    "start_time": "2024-06-17T23:56:42.720Z"
   },
   {
    "duration": 8,
    "start_time": "2024-06-17T23:56:42.747Z"
   },
   {
    "duration": 48,
    "start_time": "2024-06-17T23:56:42.757Z"
   },
   {
    "duration": 424,
    "start_time": "2024-06-17T23:56:42.809Z"
   },
   {
    "duration": 0,
    "start_time": "2024-06-17T23:56:43.236Z"
   },
   {
    "duration": 0,
    "start_time": "2024-06-17T23:56:43.238Z"
   },
   {
    "duration": 0,
    "start_time": "2024-06-17T23:56:43.239Z"
   },
   {
    "duration": 0,
    "start_time": "2024-06-17T23:56:43.242Z"
   },
   {
    "duration": 0,
    "start_time": "2024-06-17T23:56:43.244Z"
   },
   {
    "duration": 0,
    "start_time": "2024-06-17T23:56:43.246Z"
   },
   {
    "duration": 0,
    "start_time": "2024-06-17T23:56:43.248Z"
   },
   {
    "duration": 0,
    "start_time": "2024-06-17T23:56:43.250Z"
   },
   {
    "duration": 0,
    "start_time": "2024-06-17T23:56:43.251Z"
   },
   {
    "duration": 0,
    "start_time": "2024-06-17T23:56:43.253Z"
   },
   {
    "duration": 1,
    "start_time": "2024-06-17T23:56:43.255Z"
   },
   {
    "duration": 0,
    "start_time": "2024-06-17T23:56:43.258Z"
   },
   {
    "duration": 0,
    "start_time": "2024-06-17T23:56:43.260Z"
   },
   {
    "duration": 0,
    "start_time": "2024-06-17T23:56:43.263Z"
   },
   {
    "duration": 0,
    "start_time": "2024-06-17T23:56:43.306Z"
   },
   {
    "duration": 0,
    "start_time": "2024-06-17T23:56:43.308Z"
   },
   {
    "duration": 0,
    "start_time": "2024-06-17T23:56:43.310Z"
   },
   {
    "duration": 21,
    "start_time": "2024-06-17T23:57:24.534Z"
   },
   {
    "duration": 5,
    "start_time": "2024-06-17T23:57:25.504Z"
   },
   {
    "duration": 4,
    "start_time": "2024-06-17T23:57:26.006Z"
   },
   {
    "duration": 5,
    "start_time": "2024-06-17T23:57:26.461Z"
   },
   {
    "duration": 3,
    "start_time": "2024-06-17T23:57:27.419Z"
   },
   {
    "duration": 17,
    "start_time": "2024-06-17T23:57:28.359Z"
   },
   {
    "duration": 40,
    "start_time": "2024-06-17T23:57:29.003Z"
   },
   {
    "duration": 90,
    "start_time": "2024-06-17T23:57:31.320Z"
   },
   {
    "duration": 6,
    "start_time": "2024-06-17T23:57:32.416Z"
   },
   {
    "duration": 98,
    "start_time": "2024-06-17T23:57:33.326Z"
   },
   {
    "duration": 10,
    "start_time": "2024-06-17T23:57:34.917Z"
   },
   {
    "duration": 13,
    "start_time": "2024-06-17T23:57:35.735Z"
   },
   {
    "duration": 2654,
    "start_time": "2024-06-17T23:57:36.631Z"
   },
   {
    "duration": 246,
    "start_time": "2024-06-17T23:57:39.288Z"
   },
   {
    "duration": 23,
    "start_time": "2024-06-17T23:57:44.241Z"
   },
   {
    "duration": 13,
    "start_time": "2024-06-17T23:58:13.271Z"
   },
   {
    "duration": 39,
    "start_time": "2024-06-17T23:58:22.772Z"
   },
   {
    "duration": 85,
    "start_time": "2024-06-17T23:58:24.467Z"
   },
   {
    "duration": 7,
    "start_time": "2024-06-17T23:58:25.472Z"
   },
   {
    "duration": 117,
    "start_time": "2024-06-17T23:58:26.095Z"
   },
   {
    "duration": 7,
    "start_time": "2024-06-17T23:58:26.710Z"
   },
   {
    "duration": 16,
    "start_time": "2024-06-17T23:58:27.544Z"
   },
   {
    "duration": 2749,
    "start_time": "2024-06-17T23:58:28.284Z"
   },
   {
    "duration": 85,
    "start_time": "2024-06-17T23:58:33.052Z"
   },
   {
    "duration": 644,
    "start_time": "2024-06-18T00:00:11.467Z"
   },
   {
    "duration": 8,
    "start_time": "2024-06-18T00:00:53.007Z"
   },
   {
    "duration": 8,
    "start_time": "2024-06-18T00:01:09.829Z"
   },
   {
    "duration": 32,
    "start_time": "2024-06-18T00:01:10.978Z"
   },
   {
    "duration": 476,
    "start_time": "2024-06-18T00:01:12.312Z"
   },
   {
    "duration": 5,
    "start_time": "2024-06-18T00:04:22.458Z"
   },
   {
    "duration": 1261,
    "start_time": "2024-06-18T00:15:25.793Z"
   },
   {
    "duration": 25,
    "start_time": "2024-06-18T00:15:27.058Z"
   },
   {
    "duration": 36,
    "start_time": "2024-06-18T00:15:27.087Z"
   },
   {
    "duration": 4,
    "start_time": "2024-06-18T00:15:27.127Z"
   },
   {
    "duration": 9,
    "start_time": "2024-06-18T00:15:27.134Z"
   },
   {
    "duration": 20,
    "start_time": "2024-06-18T00:15:27.146Z"
   },
   {
    "duration": 13,
    "start_time": "2024-06-18T00:15:27.208Z"
   },
   {
    "duration": 7,
    "start_time": "2024-06-18T00:15:27.227Z"
   },
   {
    "duration": 9,
    "start_time": "2024-06-18T00:15:27.237Z"
   },
   {
    "duration": 6,
    "start_time": "2024-06-18T00:15:27.249Z"
   },
   {
    "duration": 49,
    "start_time": "2024-06-18T00:15:27.258Z"
   },
   {
    "duration": 7,
    "start_time": "2024-06-18T00:15:27.311Z"
   },
   {
    "duration": 10,
    "start_time": "2024-06-18T00:15:27.321Z"
   },
   {
    "duration": 8,
    "start_time": "2024-06-18T00:15:27.335Z"
   },
   {
    "duration": 64,
    "start_time": "2024-06-18T00:15:27.345Z"
   },
   {
    "duration": 8,
    "start_time": "2024-06-18T00:15:27.412Z"
   },
   {
    "duration": 6,
    "start_time": "2024-06-18T00:15:27.422Z"
   },
   {
    "duration": 16,
    "start_time": "2024-06-18T00:15:27.431Z"
   },
   {
    "duration": 5,
    "start_time": "2024-06-18T00:15:27.450Z"
   },
   {
    "duration": 51,
    "start_time": "2024-06-18T00:15:27.457Z"
   },
   {
    "duration": 6,
    "start_time": "2024-06-18T00:15:27.511Z"
   },
   {
    "duration": 4,
    "start_time": "2024-06-18T00:15:27.520Z"
   },
   {
    "duration": 14,
    "start_time": "2024-06-18T00:15:27.531Z"
   },
   {
    "duration": 78,
    "start_time": "2024-06-18T00:15:27.548Z"
   },
   {
    "duration": 97,
    "start_time": "2024-06-18T00:15:27.629Z"
   },
   {
    "duration": 6,
    "start_time": "2024-06-18T00:15:27.728Z"
   },
   {
    "duration": 178,
    "start_time": "2024-06-18T00:15:27.737Z"
   },
   {
    "duration": 7,
    "start_time": "2024-06-18T00:15:27.918Z"
   },
   {
    "duration": 89,
    "start_time": "2024-06-18T00:15:27.930Z"
   },
   {
    "duration": 486,
    "start_time": "2024-06-18T00:15:28.022Z"
   },
   {
    "duration": 0,
    "start_time": "2024-06-18T00:15:28.511Z"
   },
   {
    "duration": 0,
    "start_time": "2024-06-18T00:15:28.515Z"
   },
   {
    "duration": 0,
    "start_time": "2024-06-18T00:15:28.518Z"
   },
   {
    "duration": 0,
    "start_time": "2024-06-18T00:15:28.520Z"
   },
   {
    "duration": 418,
    "start_time": "2024-06-18T20:51:53.430Z"
   },
   {
    "duration": 1291,
    "start_time": "2024-06-18T20:54:07.166Z"
   },
   {
    "duration": 69,
    "start_time": "2024-06-18T20:54:08.460Z"
   },
   {
    "duration": 30,
    "start_time": "2024-06-18T20:54:08.532Z"
   },
   {
    "duration": 4,
    "start_time": "2024-06-18T20:54:08.565Z"
   },
   {
    "duration": 7,
    "start_time": "2024-06-18T20:54:08.574Z"
   },
   {
    "duration": 19,
    "start_time": "2024-06-18T20:54:08.584Z"
   },
   {
    "duration": 37,
    "start_time": "2024-06-18T20:54:08.606Z"
   },
   {
    "duration": 9,
    "start_time": "2024-06-18T20:54:08.646Z"
   },
   {
    "duration": 10,
    "start_time": "2024-06-18T20:54:08.658Z"
   },
   {
    "duration": 7,
    "start_time": "2024-06-18T20:54:08.671Z"
   },
   {
    "duration": 6,
    "start_time": "2024-06-18T20:54:08.681Z"
   },
   {
    "duration": 10,
    "start_time": "2024-06-18T20:54:08.690Z"
   },
   {
    "duration": 47,
    "start_time": "2024-06-18T20:54:08.703Z"
   },
   {
    "duration": 10,
    "start_time": "2024-06-18T20:54:08.756Z"
   },
   {
    "duration": 30,
    "start_time": "2024-06-18T20:54:08.770Z"
   },
   {
    "duration": 28,
    "start_time": "2024-06-18T20:54:08.806Z"
   },
   {
    "duration": 11,
    "start_time": "2024-06-18T20:54:08.840Z"
   },
   {
    "duration": 27,
    "start_time": "2024-06-18T20:54:08.857Z"
   },
   {
    "duration": 5,
    "start_time": "2024-06-18T20:54:08.889Z"
   },
   {
    "duration": 5,
    "start_time": "2024-06-18T20:54:08.897Z"
   },
   {
    "duration": 6,
    "start_time": "2024-06-18T20:54:08.905Z"
   },
   {
    "duration": 7,
    "start_time": "2024-06-18T20:54:08.934Z"
   },
   {
    "duration": 26,
    "start_time": "2024-06-18T20:54:08.944Z"
   },
   {
    "duration": 45,
    "start_time": "2024-06-18T20:54:08.975Z"
   },
   {
    "duration": 104,
    "start_time": "2024-06-18T20:54:09.023Z"
   },
   {
    "duration": 17,
    "start_time": "2024-06-18T20:54:09.138Z"
   },
   {
    "duration": 122,
    "start_time": "2024-06-18T20:54:09.165Z"
   },
   {
    "duration": 47,
    "start_time": "2024-06-18T20:54:09.291Z"
   },
   {
    "duration": 28,
    "start_time": "2024-06-18T20:54:09.342Z"
   },
   {
    "duration": 538,
    "start_time": "2024-06-18T20:54:09.374Z"
   },
   {
    "duration": 0,
    "start_time": "2024-06-18T20:54:09.916Z"
   },
   {
    "duration": 0,
    "start_time": "2024-06-18T20:54:09.919Z"
   },
   {
    "duration": 0,
    "start_time": "2024-06-18T20:54:09.940Z"
   },
   {
    "duration": 0,
    "start_time": "2024-06-18T20:54:09.942Z"
   },
   {
    "duration": 51,
    "start_time": "2024-06-18T20:54:17.126Z"
   },
   {
    "duration": 30,
    "start_time": "2024-06-18T20:54:35.897Z"
   },
   {
    "duration": 6,
    "start_time": "2024-06-18T20:54:46.472Z"
   },
   {
    "duration": 29,
    "start_time": "2024-06-18T20:54:46.966Z"
   },
   {
    "duration": 23,
    "start_time": "2024-06-18T20:54:47.228Z"
   },
   {
    "duration": 5,
    "start_time": "2024-06-18T20:54:47.440Z"
   },
   {
    "duration": 8,
    "start_time": "2024-06-18T20:54:47.875Z"
   },
   {
    "duration": 19,
    "start_time": "2024-06-18T20:54:48.094Z"
   },
   {
    "duration": 14,
    "start_time": "2024-06-18T20:54:48.534Z"
   },
   {
    "duration": 8,
    "start_time": "2024-06-18T20:54:48.957Z"
   },
   {
    "duration": 9,
    "start_time": "2024-06-18T20:54:49.846Z"
   },
   {
    "duration": 5,
    "start_time": "2024-06-18T20:54:50.544Z"
   },
   {
    "duration": 4,
    "start_time": "2024-06-18T20:54:50.984Z"
   },
   {
    "duration": 5,
    "start_time": "2024-06-18T20:54:51.421Z"
   },
   {
    "duration": 12,
    "start_time": "2024-06-18T20:54:51.862Z"
   },
   {
    "duration": 8,
    "start_time": "2024-06-18T20:54:52.307Z"
   },
   {
    "duration": 23,
    "start_time": "2024-06-18T20:54:53.000Z"
   },
   {
    "duration": 9,
    "start_time": "2024-06-18T20:54:53.207Z"
   },
   {
    "duration": 6,
    "start_time": "2024-06-18T20:54:53.662Z"
   },
   {
    "duration": 20,
    "start_time": "2024-06-18T20:54:54.124Z"
   },
   {
    "duration": 10,
    "start_time": "2024-06-18T20:54:54.350Z"
   },
   {
    "duration": 5,
    "start_time": "2024-06-18T20:54:54.633Z"
   },
   {
    "duration": 5,
    "start_time": "2024-06-18T20:54:54.838Z"
   },
   {
    "duration": 3,
    "start_time": "2024-06-18T20:54:55.313Z"
   },
   {
    "duration": 13,
    "start_time": "2024-06-18T20:54:55.811Z"
   },
   {
    "duration": 39,
    "start_time": "2024-06-18T20:54:56.301Z"
   },
   {
    "duration": 95,
    "start_time": "2024-06-18T20:54:57.890Z"
   },
   {
    "duration": 6,
    "start_time": "2024-06-18T20:54:58.391Z"
   },
   {
    "duration": 200,
    "start_time": "2024-06-18T20:54:58.837Z"
   },
   {
    "duration": 7,
    "start_time": "2024-06-18T20:54:59.293Z"
   },
   {
    "duration": 15,
    "start_time": "2024-06-18T20:54:59.807Z"
   },
   {
    "duration": 27,
    "start_time": "2024-06-18T20:55:00.363Z"
   },
   {
    "duration": 26,
    "start_time": "2024-06-18T20:55:39.775Z"
   },
   {
    "duration": 25,
    "start_time": "2024-06-18T20:55:55.296Z"
   },
   {
    "duration": 6,
    "start_time": "2024-06-18T20:56:00.595Z"
   },
   {
    "duration": 27,
    "start_time": "2024-06-18T21:00:15.680Z"
   },
   {
    "duration": 30,
    "start_time": "2024-06-18T21:00:23.900Z"
   },
   {
    "duration": 11,
    "start_time": "2024-06-18T21:00:40.043Z"
   },
   {
    "duration": 7,
    "start_time": "2024-06-18T21:00:53.684Z"
   },
   {
    "duration": 1257,
    "start_time": "2024-06-19T16:23:49.863Z"
   },
   {
    "duration": 36,
    "start_time": "2024-06-19T16:23:51.130Z"
   },
   {
    "duration": 25,
    "start_time": "2024-06-19T16:23:51.169Z"
   },
   {
    "duration": 5,
    "start_time": "2024-06-19T16:23:51.197Z"
   },
   {
    "duration": 24,
    "start_time": "2024-06-19T16:23:51.208Z"
   },
   {
    "duration": 18,
    "start_time": "2024-06-19T16:23:51.235Z"
   },
   {
    "duration": 13,
    "start_time": "2024-06-19T16:23:51.256Z"
   },
   {
    "duration": 9,
    "start_time": "2024-06-19T16:23:51.272Z"
   },
   {
    "duration": 48,
    "start_time": "2024-06-19T16:23:51.284Z"
   },
   {
    "duration": 5,
    "start_time": "2024-06-19T16:23:51.336Z"
   },
   {
    "duration": 5,
    "start_time": "2024-06-19T16:23:51.344Z"
   },
   {
    "duration": 5,
    "start_time": "2024-06-19T16:23:51.352Z"
   },
   {
    "duration": 11,
    "start_time": "2024-06-19T16:23:51.360Z"
   },
   {
    "duration": 54,
    "start_time": "2024-06-19T16:23:51.379Z"
   },
   {
    "duration": 22,
    "start_time": "2024-06-19T16:23:51.437Z"
   },
   {
    "duration": 8,
    "start_time": "2024-06-19T16:23:51.463Z"
   },
   {
    "duration": 5,
    "start_time": "2024-06-19T16:23:51.477Z"
   },
   {
    "duration": 56,
    "start_time": "2024-06-19T16:23:51.486Z"
   },
   {
    "duration": 6,
    "start_time": "2024-06-19T16:23:51.545Z"
   },
   {
    "duration": 5,
    "start_time": "2024-06-19T16:23:51.554Z"
   },
   {
    "duration": 5,
    "start_time": "2024-06-19T16:23:51.562Z"
   },
   {
    "duration": 4,
    "start_time": "2024-06-19T16:23:51.570Z"
   },
   {
    "duration": 58,
    "start_time": "2024-06-19T16:23:51.578Z"
   },
   {
    "duration": 39,
    "start_time": "2024-06-19T16:23:51.639Z"
   },
   {
    "duration": 132,
    "start_time": "2024-06-19T16:23:51.681Z"
   },
   {
    "duration": 14,
    "start_time": "2024-06-19T16:23:51.816Z"
   },
   {
    "duration": 196,
    "start_time": "2024-06-19T16:23:51.834Z"
   },
   {
    "duration": 14,
    "start_time": "2024-06-19T16:23:52.033Z"
   },
   {
    "duration": 84,
    "start_time": "2024-06-19T16:23:52.050Z"
   },
   {
    "duration": 15,
    "start_time": "2024-06-19T16:23:52.136Z"
   },
   {
    "duration": 679,
    "start_time": "2024-06-19T16:23:52.154Z"
   },
   {
    "duration": 8,
    "start_time": "2024-06-19T16:23:52.836Z"
   },
   {
    "duration": 84,
    "start_time": "2024-06-19T16:23:52.848Z"
   },
   {
    "duration": 589,
    "start_time": "2024-06-19T16:23:52.935Z"
   },
   {
    "duration": 323,
    "start_time": "2024-06-19T20:46:16.240Z"
   },
   {
    "duration": 30,
    "start_time": "2024-06-19T20:46:16.649Z"
   },
   {
    "duration": 27,
    "start_time": "2024-06-19T20:46:40.586Z"
   },
   {
    "duration": 30,
    "start_time": "2024-06-19T20:46:45.363Z"
   },
   {
    "duration": 1205,
    "start_time": "2024-06-19T20:46:54.145Z"
   },
   {
    "duration": 36,
    "start_time": "2024-06-19T20:46:55.353Z"
   },
   {
    "duration": 31,
    "start_time": "2024-06-19T20:46:55.392Z"
   },
   {
    "duration": 5,
    "start_time": "2024-06-19T20:46:55.426Z"
   },
   {
    "duration": 7,
    "start_time": "2024-06-19T20:46:56.115Z"
   },
   {
    "duration": 18,
    "start_time": "2024-06-19T20:46:56.736Z"
   },
   {
    "duration": 11,
    "start_time": "2024-06-19T20:46:57.427Z"
   },
   {
    "duration": 6,
    "start_time": "2024-06-19T20:46:58.298Z"
   },
   {
    "duration": 9,
    "start_time": "2024-06-19T20:47:00.392Z"
   },
   {
    "duration": 5,
    "start_time": "2024-06-19T20:47:02.516Z"
   },
   {
    "duration": 4,
    "start_time": "2024-06-19T20:47:03.551Z"
   },
   {
    "duration": 5,
    "start_time": "2024-06-19T20:47:04.715Z"
   },
   {
    "duration": 11,
    "start_time": "2024-06-19T20:47:05.671Z"
   },
   {
    "duration": 7,
    "start_time": "2024-06-19T20:47:07.128Z"
   },
   {
    "duration": 23,
    "start_time": "2024-06-19T20:47:09.357Z"
   },
   {
    "duration": 8,
    "start_time": "2024-06-19T20:47:10.053Z"
   },
   {
    "duration": 6,
    "start_time": "2024-06-19T20:47:30.318Z"
   },
   {
    "duration": 21,
    "start_time": "2024-06-19T20:47:34.195Z"
   },
   {
    "duration": 5,
    "start_time": "2024-06-19T20:47:34.804Z"
   },
   {
    "duration": 6,
    "start_time": "2024-06-19T20:47:43.515Z"
   },
   {
    "duration": 16,
    "start_time": "2024-06-19T20:48:06.068Z"
   },
   {
    "duration": 5,
    "start_time": "2024-06-19T20:48:23.808Z"
   },
   {
    "duration": 11,
    "start_time": "2024-06-19T20:48:24.563Z"
   },
   {
    "duration": 5,
    "start_time": "2024-06-19T20:48:25.214Z"
   },
   {
    "duration": 4,
    "start_time": "2024-06-19T20:48:48.050Z"
   },
   {
    "duration": 13,
    "start_time": "2024-06-19T20:48:49.491Z"
   },
   {
    "duration": 40,
    "start_time": "2024-06-19T20:48:55.393Z"
   },
   {
    "duration": 241,
    "start_time": "2024-06-19T20:57:40.260Z"
   },
   {
    "duration": 11,
    "start_time": "2024-06-19T20:57:46.074Z"
   },
   {
    "duration": 8,
    "start_time": "2024-06-19T20:57:47.398Z"
   },
   {
    "duration": 656,
    "start_time": "2024-06-19T20:57:49.582Z"
   },
   {
    "duration": 62,
    "start_time": "2024-06-19T20:57:50.297Z"
   },
   {
    "duration": 36,
    "start_time": "2024-06-19T21:00:14.360Z"
   },
   {
    "duration": 5,
    "start_time": "2024-06-19T21:00:32.135Z"
   },
   {
    "duration": 22,
    "start_time": "2024-06-19T21:00:32.785Z"
   },
   {
    "duration": 19,
    "start_time": "2024-06-19T21:00:32.984Z"
   },
   {
    "duration": 5,
    "start_time": "2024-06-19T21:00:33.173Z"
   },
   {
    "duration": 8,
    "start_time": "2024-06-19T21:00:33.570Z"
   },
   {
    "duration": 17,
    "start_time": "2024-06-19T21:00:33.985Z"
   },
   {
    "duration": 11,
    "start_time": "2024-06-19T21:00:34.389Z"
   },
   {
    "duration": 7,
    "start_time": "2024-06-19T21:00:34.816Z"
   },
   {
    "duration": 9,
    "start_time": "2024-06-19T21:00:35.819Z"
   },
   {
    "duration": 5,
    "start_time": "2024-06-19T21:00:36.635Z"
   },
   {
    "duration": 5,
    "start_time": "2024-06-19T21:00:37.054Z"
   },
   {
    "duration": 4,
    "start_time": "2024-06-19T21:00:37.499Z"
   },
   {
    "duration": 10,
    "start_time": "2024-06-19T21:00:38.139Z"
   },
   {
    "duration": 8,
    "start_time": "2024-06-19T21:00:38.817Z"
   },
   {
    "duration": 25,
    "start_time": "2024-06-19T21:00:39.680Z"
   },
   {
    "duration": 5,
    "start_time": "2024-06-19T21:00:39.920Z"
   },
   {
    "duration": 7,
    "start_time": "2024-06-19T21:00:40.953Z"
   },
   {
    "duration": 4,
    "start_time": "2024-06-19T21:00:44.349Z"
   },
   {
    "duration": 17,
    "start_time": "2024-06-19T21:00:44.957Z"
   },
   {
    "duration": 42,
    "start_time": "2024-06-19T21:00:45.953Z"
   },
   {
    "duration": 123,
    "start_time": "2024-06-19T21:00:53.614Z"
   },
   {
    "duration": 7,
    "start_time": "2024-06-19T21:00:54.499Z"
   },
   {
    "duration": 78,
    "start_time": "2024-06-19T21:00:55.867Z"
   },
   {
    "duration": 8,
    "start_time": "2024-06-19T21:00:56.739Z"
   },
   {
    "duration": 15,
    "start_time": "2024-06-19T21:00:57.791Z"
   },
   {
    "duration": 7,
    "start_time": "2024-06-19T21:00:59.253Z"
   },
   {
    "duration": 874,
    "start_time": "2024-06-19T21:01:01.663Z"
   },
   {
    "duration": 1228,
    "start_time": "2024-06-19T21:01:02.540Z"
   },
   {
    "duration": 1189,
    "start_time": "2024-06-19T21:02:27.974Z"
   },
   {
    "duration": 484,
    "start_time": "2024-06-19T21:03:33.983Z"
   },
   {
    "duration": 853,
    "start_time": "2024-06-19T21:03:52.565Z"
   },
   {
    "duration": 714,
    "start_time": "2024-06-19T21:06:16.010Z"
   },
   {
    "duration": 5,
    "start_time": "2024-06-19T21:07:32.411Z"
   },
   {
    "duration": 26,
    "start_time": "2024-06-19T21:07:32.857Z"
   },
   {
    "duration": 17,
    "start_time": "2024-06-19T21:07:33.056Z"
   },
   {
    "duration": 5,
    "start_time": "2024-06-19T21:07:33.230Z"
   },
   {
    "duration": 8,
    "start_time": "2024-06-19T21:07:33.648Z"
   },
   {
    "duration": 21,
    "start_time": "2024-06-19T21:07:34.020Z"
   },
   {
    "duration": 14,
    "start_time": "2024-06-19T21:07:34.395Z"
   },
   {
    "duration": 8,
    "start_time": "2024-06-19T21:07:34.818Z"
   },
   {
    "duration": 11,
    "start_time": "2024-06-19T21:07:35.824Z"
   },
   {
    "duration": 5,
    "start_time": "2024-06-19T21:07:36.670Z"
   },
   {
    "duration": 4,
    "start_time": "2024-06-19T21:07:37.095Z"
   },
   {
    "duration": 5,
    "start_time": "2024-06-19T21:07:37.509Z"
   },
   {
    "duration": 13,
    "start_time": "2024-06-19T21:07:38.145Z"
   },
   {
    "duration": 8,
    "start_time": "2024-06-19T21:07:38.763Z"
   },
   {
    "duration": 22,
    "start_time": "2024-06-19T21:07:39.601Z"
   },
   {
    "duration": 5,
    "start_time": "2024-06-19T21:07:39.806Z"
   },
   {
    "duration": 7,
    "start_time": "2024-06-19T21:07:40.413Z"
   },
   {
    "duration": 3,
    "start_time": "2024-06-19T21:07:42.694Z"
   },
   {
    "duration": 17,
    "start_time": "2024-06-19T21:07:43.117Z"
   },
   {
    "duration": 44,
    "start_time": "2024-06-19T21:07:43.716Z"
   },
   {
    "duration": 110,
    "start_time": "2024-06-19T21:07:45.467Z"
   },
   {
    "duration": 6,
    "start_time": "2024-06-19T21:07:45.870Z"
   },
   {
    "duration": 101,
    "start_time": "2024-06-19T21:07:46.344Z"
   },
   {
    "duration": 8,
    "start_time": "2024-06-19T21:07:46.805Z"
   },
   {
    "duration": 15,
    "start_time": "2024-06-19T21:07:47.316Z"
   },
   {
    "duration": 8,
    "start_time": "2024-06-19T21:07:49.206Z"
   },
   {
    "duration": 868,
    "start_time": "2024-06-19T21:07:51.858Z"
   },
   {
    "duration": 1212,
    "start_time": "2024-06-19T21:07:52.730Z"
   },
   {
    "duration": 459,
    "start_time": "2024-06-19T21:07:56.843Z"
   },
   {
    "duration": 7,
    "start_time": "2024-06-19T21:08:00.208Z"
   },
   {
    "duration": 42,
    "start_time": "2024-06-19T21:08:01.893Z"
   },
   {
    "duration": 675,
    "start_time": "2024-06-19T21:08:04.060Z"
   },
   {
    "duration": 39,
    "start_time": "2024-06-19T21:10:13.490Z"
   },
   {
    "duration": 864,
    "start_time": "2024-06-19T21:10:31.490Z"
   },
   {
    "duration": 31,
    "start_time": "2024-06-19T21:11:46.846Z"
   },
   {
    "duration": 6,
    "start_time": "2024-06-19T21:11:55.174Z"
   },
   {
    "duration": 23,
    "start_time": "2024-06-19T21:11:55.918Z"
   },
   {
    "duration": 17,
    "start_time": "2024-06-19T21:11:56.136Z"
   },
   {
    "duration": 5,
    "start_time": "2024-06-19T21:11:56.306Z"
   },
   {
    "duration": 7,
    "start_time": "2024-06-19T21:11:56.715Z"
   },
   {
    "duration": 22,
    "start_time": "2024-06-19T21:11:57.063Z"
   },
   {
    "duration": 11,
    "start_time": "2024-06-19T21:11:57.460Z"
   },
   {
    "duration": 7,
    "start_time": "2024-06-19T21:11:57.843Z"
   },
   {
    "duration": 7,
    "start_time": "2024-06-19T21:11:58.755Z"
   },
   {
    "duration": 5,
    "start_time": "2024-06-19T21:11:59.508Z"
   },
   {
    "duration": 4,
    "start_time": "2024-06-19T21:11:59.877Z"
   },
   {
    "duration": 4,
    "start_time": "2024-06-19T21:12:00.260Z"
   },
   {
    "duration": 11,
    "start_time": "2024-06-19T21:12:00.843Z"
   },
   {
    "duration": 7,
    "start_time": "2024-06-19T21:12:01.406Z"
   },
   {
    "duration": 22,
    "start_time": "2024-06-19T21:12:02.188Z"
   },
   {
    "duration": 5,
    "start_time": "2024-06-19T21:12:02.398Z"
   },
   {
    "duration": 6,
    "start_time": "2024-06-19T21:12:02.986Z"
   },
   {
    "duration": 3,
    "start_time": "2024-06-19T21:12:05.141Z"
   },
   {
    "duration": 14,
    "start_time": "2024-06-19T21:12:05.521Z"
   },
   {
    "duration": 45,
    "start_time": "2024-06-19T21:12:06.516Z"
   },
   {
    "duration": 115,
    "start_time": "2024-06-19T21:12:08.994Z"
   },
   {
    "duration": 7,
    "start_time": "2024-06-19T21:12:09.990Z"
   },
   {
    "duration": 94,
    "start_time": "2024-06-19T21:12:10.650Z"
   },
   {
    "duration": 8,
    "start_time": "2024-06-19T21:12:11.539Z"
   },
   {
    "duration": 15,
    "start_time": "2024-06-19T21:12:12.581Z"
   },
   {
    "duration": 8,
    "start_time": "2024-06-19T21:12:13.814Z"
   },
   {
    "duration": 856,
    "start_time": "2024-06-19T21:12:17.855Z"
   },
   {
    "duration": 33945,
    "start_time": "2024-06-19T21:12:18.714Z"
   },
   {
    "duration": 0,
    "start_time": "2024-06-19T21:12:52.662Z"
   },
   {
    "duration": 0,
    "start_time": "2024-06-19T21:12:52.664Z"
   },
   {
    "duration": 920,
    "start_time": "2024-06-19T21:12:59.593Z"
   },
   {
    "duration": 14,
    "start_time": "2024-06-19T21:18:49.482Z"
   },
   {
    "duration": 10,
    "start_time": "2024-06-19T21:18:56.557Z"
   },
   {
    "duration": 1420,
    "start_time": "2024-06-19T21:18:57.436Z"
   },
   {
    "duration": 9,
    "start_time": "2024-06-19T21:18:59.111Z"
   },
   {
    "duration": 5,
    "start_time": "2024-06-19T21:19:01.096Z"
   },
   {
    "duration": 5,
    "start_time": "2024-06-19T21:19:01.952Z"
   },
   {
    "duration": 5,
    "start_time": "2024-06-19T21:19:02.699Z"
   },
   {
    "duration": 15,
    "start_time": "2024-06-19T21:19:03.814Z"
   },
   {
    "duration": 164,
    "start_time": "2024-06-19T21:19:05.384Z"
   },
   {
    "duration": 76,
    "start_time": "2024-06-19T21:19:41.410Z"
   },
   {
    "duration": 11,
    "start_time": "2024-06-19T21:19:55.660Z"
   },
   {
    "duration": 66,
    "start_time": "2024-06-19T21:19:56.535Z"
   },
   {
    "duration": 6,
    "start_time": "2024-06-19T21:20:06.876Z"
   },
   {
    "duration": 24,
    "start_time": "2024-06-19T21:20:07.664Z"
   },
   {
    "duration": 17,
    "start_time": "2024-06-19T21:20:08.052Z"
   },
   {
    "duration": 4,
    "start_time": "2024-06-19T21:20:08.522Z"
   },
   {
    "duration": 7,
    "start_time": "2024-06-19T21:20:09.263Z"
   },
   {
    "duration": 17,
    "start_time": "2024-06-19T21:20:10.083Z"
   },
   {
    "duration": 12,
    "start_time": "2024-06-19T21:20:11.318Z"
   },
   {
    "duration": 7,
    "start_time": "2024-06-19T21:20:12.190Z"
   },
   {
    "duration": 7,
    "start_time": "2024-06-19T21:20:15.057Z"
   },
   {
    "duration": 5,
    "start_time": "2024-06-19T21:20:16.847Z"
   },
   {
    "duration": 4,
    "start_time": "2024-06-19T21:20:17.395Z"
   },
   {
    "duration": 5,
    "start_time": "2024-06-19T21:20:17.953Z"
   },
   {
    "duration": 13,
    "start_time": "2024-06-19T21:20:20.720Z"
   },
   {
    "duration": 7,
    "start_time": "2024-06-19T21:20:22.304Z"
   },
   {
    "duration": 16,
    "start_time": "2024-06-19T21:20:28.378Z"
   },
   {
    "duration": 29,
    "start_time": "2024-06-19T21:20:33.770Z"
   },
   {
    "duration": 5,
    "start_time": "2024-06-19T21:20:34.263Z"
   },
   {
    "duration": 7,
    "start_time": "2024-06-19T21:20:36.902Z"
   },
   {
    "duration": 3,
    "start_time": "2024-06-19T21:20:41.239Z"
   },
   {
    "duration": 14,
    "start_time": "2024-06-19T21:20:41.892Z"
   },
   {
    "duration": 43,
    "start_time": "2024-06-19T21:20:43.174Z"
   },
   {
    "duration": 109,
    "start_time": "2024-06-19T21:20:45.848Z"
   },
   {
    "duration": 6,
    "start_time": "2024-06-19T21:20:47.461Z"
   },
   {
    "duration": 55,
    "start_time": "2024-06-19T21:20:48.286Z"
   },
   {
    "duration": 9,
    "start_time": "2024-06-19T21:20:49.128Z"
   },
   {
    "duration": 14,
    "start_time": "2024-06-19T21:20:50.038Z"
   },
   {
    "duration": 7,
    "start_time": "2024-06-19T21:20:51.736Z"
   },
   {
    "duration": 854,
    "start_time": "2024-06-19T21:20:54.715Z"
   },
   {
    "duration": 910,
    "start_time": "2024-06-19T21:20:56.622Z"
   },
   {
    "duration": 1197,
    "start_time": "2024-06-19T21:20:57.536Z"
   },
   {
    "duration": 487,
    "start_time": "2024-06-19T21:20:59.879Z"
   },
   {
    "duration": 8,
    "start_time": "2024-06-19T21:21:01.968Z"
   },
   {
    "duration": 46,
    "start_time": "2024-06-19T21:21:03.456Z"
   },
   {
    "duration": 659,
    "start_time": "2024-06-19T21:21:05.130Z"
   },
   {
    "duration": 7,
    "start_time": "2024-06-19T21:22:45.394Z"
   },
   {
    "duration": 5,
    "start_time": "2024-06-19T21:22:47.579Z"
   },
   {
    "duration": 5,
    "start_time": "2024-06-19T21:22:48.366Z"
   },
   {
    "duration": 5,
    "start_time": "2024-06-19T21:22:48.845Z"
   },
   {
    "duration": 9,
    "start_time": "2024-06-19T21:22:50.045Z"
   },
   {
    "duration": 83,
    "start_time": "2024-06-19T21:22:51.719Z"
   },
   {
    "duration": 8,
    "start_time": "2024-06-19T21:22:59.675Z"
   },
   {
    "duration": 25,
    "start_time": "2024-06-19T21:23:00.217Z"
   },
   {
    "duration": 18,
    "start_time": "2024-06-19T21:23:00.453Z"
   },
   {
    "duration": 4,
    "start_time": "2024-06-19T21:23:00.653Z"
   },
   {
    "duration": 8,
    "start_time": "2024-06-19T21:23:01.112Z"
   },
   {
    "duration": 19,
    "start_time": "2024-06-19T21:23:01.540Z"
   },
   {
    "duration": 12,
    "start_time": "2024-06-19T21:23:02.226Z"
   },
   {
    "duration": 7,
    "start_time": "2024-06-19T21:23:02.689Z"
   },
   {
    "duration": 9,
    "start_time": "2024-06-19T21:23:03.839Z"
   },
   {
    "duration": 5,
    "start_time": "2024-06-19T21:23:04.809Z"
   },
   {
    "duration": 4,
    "start_time": "2024-06-19T21:23:05.248Z"
   },
   {
    "duration": 5,
    "start_time": "2024-06-19T21:23:05.739Z"
   },
   {
    "duration": 10,
    "start_time": "2024-06-19T21:23:06.955Z"
   },
   {
    "duration": 7,
    "start_time": "2024-06-19T21:23:08.269Z"
   },
   {
    "duration": 15,
    "start_time": "2024-06-19T21:23:10.332Z"
   },
   {
    "duration": 21,
    "start_time": "2024-06-19T21:23:15.138Z"
   },
   {
    "duration": 6,
    "start_time": "2024-06-19T21:23:15.709Z"
   },
   {
    "duration": 7,
    "start_time": "2024-06-19T21:23:24.055Z"
   },
   {
    "duration": 4,
    "start_time": "2024-06-19T21:23:30.588Z"
   },
   {
    "duration": 14,
    "start_time": "2024-06-19T21:23:31.370Z"
   },
   {
    "duration": 46,
    "start_time": "2024-06-19T21:25:37.684Z"
   },
   {
    "duration": 25,
    "start_time": "2024-06-19T21:26:02.231Z"
   },
   {
    "duration": 95,
    "start_time": "2024-06-19T21:26:18.929Z"
   },
   {
    "duration": 25,
    "start_time": "2024-06-19T21:27:59.424Z"
   },
   {
    "duration": 46,
    "start_time": "2024-06-19T21:28:04.553Z"
   },
   {
    "duration": 865,
    "start_time": "2024-06-19T21:28:17.102Z"
   },
   {
    "duration": 29,
    "start_time": "2024-06-19T23:12:32.946Z"
   },
   {
    "duration": 321,
    "start_time": "2024-06-19T23:13:06.724Z"
   },
   {
    "duration": 23,
    "start_time": "2024-06-19T23:13:23.589Z"
   },
   {
    "duration": 1236,
    "start_time": "2024-06-19T23:13:29.073Z"
   },
   {
    "duration": 28,
    "start_time": "2024-06-19T23:13:30.313Z"
   },
   {
    "duration": 24,
    "start_time": "2024-06-19T23:13:30.344Z"
   },
   {
    "duration": 5,
    "start_time": "2024-06-19T23:13:30.372Z"
   },
   {
    "duration": 43,
    "start_time": "2024-06-19T23:13:30.380Z"
   },
   {
    "duration": 19,
    "start_time": "2024-06-19T23:13:30.795Z"
   },
   {
    "duration": 11,
    "start_time": "2024-06-19T23:13:31.461Z"
   },
   {
    "duration": 7,
    "start_time": "2024-06-19T23:13:31.864Z"
   },
   {
    "duration": 9,
    "start_time": "2024-06-19T23:13:32.883Z"
   },
   {
    "duration": 5,
    "start_time": "2024-06-19T23:13:33.718Z"
   },
   {
    "duration": 5,
    "start_time": "2024-06-19T23:13:34.113Z"
   },
   {
    "duration": 5,
    "start_time": "2024-06-19T23:13:34.562Z"
   },
   {
    "duration": 11,
    "start_time": "2024-06-19T23:13:35.150Z"
   },
   {
    "duration": 7,
    "start_time": "2024-06-19T23:13:35.760Z"
   },
   {
    "duration": 17,
    "start_time": "2024-06-19T23:13:35.970Z"
   },
   {
    "duration": 21,
    "start_time": "2024-06-19T23:13:36.800Z"
   },
   {
    "duration": 5,
    "start_time": "2024-06-19T23:13:37.005Z"
   },
   {
    "duration": 7,
    "start_time": "2024-06-19T23:13:37.619Z"
   },
   {
    "duration": 4,
    "start_time": "2024-06-19T23:13:39.918Z"
   },
   {
    "duration": 18,
    "start_time": "2024-06-19T23:13:40.360Z"
   },
   {
    "duration": 44,
    "start_time": "2024-06-19T23:13:41.630Z"
   },
   {
    "duration": 107,
    "start_time": "2024-06-19T23:13:45.359Z"
   },
   {
    "duration": 6,
    "start_time": "2024-06-19T23:13:46.320Z"
   },
   {
    "duration": 146,
    "start_time": "2024-06-19T23:13:46.881Z"
   },
   {
    "duration": 11,
    "start_time": "2024-06-19T23:13:47.416Z"
   },
   {
    "duration": 15,
    "start_time": "2024-06-19T23:13:48.344Z"
   },
   {
    "duration": 7,
    "start_time": "2024-06-19T23:14:04.897Z"
   },
   {
    "duration": 897,
    "start_time": "2024-06-19T23:14:09.159Z"
   },
   {
    "duration": 48,
    "start_time": "2024-06-19T23:14:10.061Z"
   },
   {
    "duration": 108,
    "start_time": "2024-06-19T23:14:11.116Z"
   },
   {
    "duration": 898,
    "start_time": "2024-06-19T23:14:13.585Z"
   },
   {
    "duration": 1202,
    "start_time": "2024-06-19T23:14:16.913Z"
   },
   {
    "duration": 470,
    "start_time": "2024-06-19T23:14:18.855Z"
   },
   {
    "duration": 7,
    "start_time": "2024-06-19T23:14:21.053Z"
   },
   {
    "duration": 39,
    "start_time": "2024-06-19T23:14:22.436Z"
   },
   {
    "duration": 660,
    "start_time": "2024-06-19T23:14:25.303Z"
   },
   {
    "duration": 321,
    "start_time": "2024-06-20T18:29:23.229Z"
   },
   {
    "duration": 1190,
    "start_time": "2024-06-20T18:29:39.760Z"
   },
   {
    "duration": 40,
    "start_time": "2024-06-20T18:29:40.954Z"
   },
   {
    "duration": 25,
    "start_time": "2024-06-20T18:29:40.997Z"
   },
   {
    "duration": 4,
    "start_time": "2024-06-20T18:29:41.026Z"
   },
   {
    "duration": 9,
    "start_time": "2024-06-20T18:29:41.033Z"
   },
   {
    "duration": 19,
    "start_time": "2024-06-20T18:29:41.363Z"
   },
   {
    "duration": 13,
    "start_time": "2024-06-20T18:29:41.970Z"
   },
   {
    "duration": 10,
    "start_time": "2024-06-20T18:29:42.370Z"
   },
   {
    "duration": 9,
    "start_time": "2024-06-20T18:29:43.313Z"
   },
   {
    "duration": 5,
    "start_time": "2024-06-20T18:29:44.092Z"
   },
   {
    "duration": 5,
    "start_time": "2024-06-20T18:29:44.460Z"
   },
   {
    "duration": 5,
    "start_time": "2024-06-20T18:29:44.876Z"
   },
   {
    "duration": 10,
    "start_time": "2024-06-20T18:29:45.441Z"
   },
   {
    "duration": 7,
    "start_time": "2024-06-20T18:29:46.035Z"
   },
   {
    "duration": 15,
    "start_time": "2024-06-20T18:29:46.258Z"
   },
   {
    "duration": 22,
    "start_time": "2024-06-20T18:29:47.069Z"
   },
   {
    "duration": 6,
    "start_time": "2024-06-20T18:29:47.276Z"
   },
   {
    "duration": 7,
    "start_time": "2024-06-20T18:29:48.048Z"
   },
   {
    "duration": 4,
    "start_time": "2024-06-20T18:29:50.639Z"
   },
   {
    "duration": 14,
    "start_time": "2024-06-20T18:29:51.029Z"
   },
   {
    "duration": 43,
    "start_time": "2024-06-20T18:29:52.590Z"
   },
   {
    "duration": 110,
    "start_time": "2024-06-20T18:29:55.160Z"
   },
   {
    "duration": 7,
    "start_time": "2024-06-20T18:29:55.837Z"
   },
   {
    "duration": 127,
    "start_time": "2024-06-20T18:29:56.400Z"
   },
   {
    "duration": 11,
    "start_time": "2024-06-20T18:29:56.903Z"
   },
   {
    "duration": 16,
    "start_time": "2024-06-20T18:29:57.430Z"
   },
   {
    "duration": 8,
    "start_time": "2024-06-20T18:29:59.104Z"
   },
   {
    "duration": 887,
    "start_time": "2024-06-20T18:30:01.508Z"
   },
   {
    "duration": 46,
    "start_time": "2024-06-20T18:30:02.401Z"
   },
   {
    "duration": 77,
    "start_time": "2024-06-20T18:30:02.642Z"
   },
   {
    "duration": 905,
    "start_time": "2024-06-20T18:30:03.228Z"
   },
   {
    "duration": 1206,
    "start_time": "2024-06-20T18:30:04.137Z"
   },
   {
    "duration": 477,
    "start_time": "2024-06-20T18:30:05.347Z"
   },
   {
    "duration": 7,
    "start_time": "2024-06-20T18:30:07.643Z"
   },
   {
    "duration": 50,
    "start_time": "2024-06-20T18:30:08.633Z"
   },
   {
    "duration": 415,
    "start_time": "2024-06-20T18:30:10.405Z"
   },
   {
    "duration": 704,
    "start_time": "2024-06-20T18:30:22.349Z"
   },
   {
    "duration": 715,
    "start_time": "2024-06-20T18:30:33.940Z"
   },
   {
    "duration": 702,
    "start_time": "2024-06-20T18:30:52.465Z"
   },
   {
    "duration": 712,
    "start_time": "2024-06-20T18:31:47.683Z"
   },
   {
    "duration": 25,
    "start_time": "2024-06-20T18:36:24.674Z"
   },
   {
    "duration": 4082,
    "start_time": "2024-06-20T18:36:32.153Z"
   },
   {
    "duration": 25,
    "start_time": "2024-06-20T18:36:36.239Z"
   },
   {
    "duration": 36,
    "start_time": "2024-06-20T18:36:36.267Z"
   },
   {
    "duration": 6,
    "start_time": "2024-06-20T18:36:36.307Z"
   },
   {
    "duration": 9,
    "start_time": "2024-06-20T18:36:36.317Z"
   },
   {
    "duration": 18,
    "start_time": "2024-06-20T18:36:36.329Z"
   },
   {
    "duration": 57,
    "start_time": "2024-06-20T18:36:36.351Z"
   },
   {
    "duration": 7,
    "start_time": "2024-06-20T18:36:36.412Z"
   },
   {
    "duration": 8,
    "start_time": "2024-06-20T18:36:36.422Z"
   },
   {
    "duration": 5,
    "start_time": "2024-06-20T18:36:36.434Z"
   },
   {
    "duration": 4,
    "start_time": "2024-06-20T18:36:36.473Z"
   },
   {
    "duration": 5,
    "start_time": "2024-06-20T18:36:36.809Z"
   },
   {
    "duration": 10,
    "start_time": "2024-06-20T18:36:37.394Z"
   },
   {
    "duration": 8,
    "start_time": "2024-06-20T18:36:37.911Z"
   },
   {
    "duration": 14,
    "start_time": "2024-06-20T18:36:38.088Z"
   },
   {
    "duration": 21,
    "start_time": "2024-06-20T18:36:38.814Z"
   },
   {
    "duration": 5,
    "start_time": "2024-06-20T18:36:38.987Z"
   },
   {
    "duration": 7,
    "start_time": "2024-06-20T18:36:42.087Z"
   },
   {
    "duration": 4,
    "start_time": "2024-06-20T18:36:47.773Z"
   },
   {
    "duration": 15,
    "start_time": "2024-06-20T18:36:48.745Z"
   },
   {
    "duration": 46,
    "start_time": "2024-06-20T18:36:50.203Z"
   },
   {
    "duration": 111,
    "start_time": "2024-06-20T18:36:53.624Z"
   },
   {
    "duration": 7,
    "start_time": "2024-06-20T18:36:54.172Z"
   },
   {
    "duration": 123,
    "start_time": "2024-06-20T18:36:54.786Z"
   },
   {
    "duration": 10,
    "start_time": "2024-06-20T18:36:55.275Z"
   },
   {
    "duration": 187,
    "start_time": "2024-06-20T18:36:55.943Z"
   },
   {
    "duration": 6,
    "start_time": "2024-06-20T18:37:14.198Z"
   },
   {
    "duration": 16,
    "start_time": "2024-06-20T18:38:42.440Z"
   },
   {
    "duration": 714,
    "start_time": "2024-06-20T18:40:09.149Z"
   },
   {
    "duration": 13,
    "start_time": "2024-06-20T18:40:51.915Z"
   },
   {
    "duration": 169,
    "start_time": "2024-06-20T18:41:52.098Z"
   },
   {
    "duration": 200,
    "start_time": "2024-06-20T18:42:00.390Z"
   },
   {
    "duration": 47,
    "start_time": "2024-06-20T18:42:14.438Z"
   },
   {
    "duration": 26,
    "start_time": "2024-06-20T18:42:23.014Z"
   },
   {
    "duration": 169,
    "start_time": "2024-06-20T18:43:33.599Z"
   },
   {
    "duration": 32,
    "start_time": "2024-06-20T18:46:06.121Z"
   },
   {
    "duration": 30,
    "start_time": "2024-06-20T18:46:06.968Z"
   },
   {
    "duration": 17,
    "start_time": "2024-06-20T18:46:07.201Z"
   },
   {
    "duration": 4,
    "start_time": "2024-06-20T18:46:07.384Z"
   },
   {
    "duration": 7,
    "start_time": "2024-06-20T18:46:07.721Z"
   },
   {
    "duration": 6,
    "start_time": "2024-06-20T18:46:34.256Z"
   },
   {
    "duration": 16,
    "start_time": "2024-06-20T18:53:02.245Z"
   },
   {
    "duration": 8,
    "start_time": "2024-06-20T18:55:50.170Z"
   },
   {
    "duration": 27,
    "start_time": "2024-06-20T18:55:51.759Z"
   },
   {
    "duration": 16,
    "start_time": "2024-06-20T18:55:52.106Z"
   },
   {
    "duration": 4,
    "start_time": "2024-06-20T18:55:52.600Z"
   },
   {
    "duration": 8,
    "start_time": "2024-06-20T18:55:54.061Z"
   },
   {
    "duration": 17,
    "start_time": "2024-06-20T18:55:55.515Z"
   },
   {
    "duration": 12,
    "start_time": "2024-06-20T18:55:57.408Z"
   },
   {
    "duration": 8,
    "start_time": "2024-06-20T18:55:58.846Z"
   },
   {
    "duration": 9,
    "start_time": "2024-06-20T18:56:02.038Z"
   },
   {
    "duration": 5,
    "start_time": "2024-06-20T18:56:04.084Z"
   },
   {
    "duration": 5,
    "start_time": "2024-06-20T18:56:05.571Z"
   },
   {
    "duration": 6,
    "start_time": "2024-06-20T18:56:06.603Z"
   },
   {
    "duration": 10,
    "start_time": "2024-06-20T18:56:08.283Z"
   },
   {
    "duration": 8,
    "start_time": "2024-06-20T18:56:10.505Z"
   },
   {
    "duration": 14,
    "start_time": "2024-06-20T18:56:11.201Z"
   },
   {
    "duration": 21,
    "start_time": "2024-06-20T18:56:13.701Z"
   },
   {
    "duration": 5,
    "start_time": "2024-06-20T18:56:14.783Z"
   },
   {
    "duration": 7,
    "start_time": "2024-06-20T18:56:17.378Z"
   },
   {
    "duration": 3,
    "start_time": "2024-06-20T18:56:24.821Z"
   },
   {
    "duration": 15,
    "start_time": "2024-06-20T18:56:25.744Z"
   },
   {
    "duration": 43,
    "start_time": "2024-06-20T18:56:28.790Z"
   },
   {
    "duration": 107,
    "start_time": "2024-06-20T18:56:33.139Z"
   },
   {
    "duration": 7,
    "start_time": "2024-06-20T18:56:34.584Z"
   },
   {
    "duration": 117,
    "start_time": "2024-06-20T18:56:35.698Z"
   },
   {
    "duration": 8,
    "start_time": "2024-06-20T18:56:37.184Z"
   },
   {
    "duration": 167,
    "start_time": "2024-06-20T18:56:39.153Z"
   },
   {
    "duration": 15,
    "start_time": "2024-06-20T18:56:42.036Z"
   },
   {
    "duration": 8,
    "start_time": "2024-06-20T18:56:44.543Z"
   },
   {
    "duration": 880,
    "start_time": "2024-06-20T18:56:48.634Z"
   },
   {
    "duration": 47,
    "start_time": "2024-06-20T18:56:49.518Z"
   },
   {
    "duration": 97,
    "start_time": "2024-06-20T18:56:50.306Z"
   },
   {
    "duration": 905,
    "start_time": "2024-06-20T18:56:51.285Z"
   },
   {
    "duration": 1267,
    "start_time": "2024-06-20T18:56:52.669Z"
   },
   {
    "duration": 600,
    "start_time": "2024-06-20T18:56:53.946Z"
   },
   {
    "duration": 9,
    "start_time": "2024-06-20T18:56:57.763Z"
   },
   {
    "duration": 48,
    "start_time": "2024-06-20T18:56:59.336Z"
   },
   {
    "duration": 692,
    "start_time": "2024-06-20T18:57:01.129Z"
   },
   {
    "duration": 327,
    "start_time": "2024-06-21T14:29:20.165Z"
   },
   {
    "duration": 322,
    "start_time": "2024-06-21T14:29:41.450Z"
   },
   {
    "duration": 5241,
    "start_time": "2024-06-21T14:29:49.956Z"
   },
   {
    "duration": 37,
    "start_time": "2024-06-21T14:29:55.201Z"
   },
   {
    "duration": 23,
    "start_time": "2024-06-21T14:29:55.241Z"
   },
   {
    "duration": 5,
    "start_time": "2024-06-21T14:29:55.267Z"
   },
   {
    "duration": 9,
    "start_time": "2024-06-21T14:29:55.276Z"
   },
   {
    "duration": 18,
    "start_time": "2024-06-21T14:29:58.625Z"
   },
   {
    "duration": 12,
    "start_time": "2024-06-21T14:30:00.251Z"
   },
   {
    "duration": 8,
    "start_time": "2024-06-21T14:30:01.160Z"
   },
   {
    "duration": 9,
    "start_time": "2024-06-21T14:30:02.926Z"
   },
   {
    "duration": 4,
    "start_time": "2024-06-21T14:30:04.614Z"
   },
   {
    "duration": 5,
    "start_time": "2024-06-21T14:30:05.276Z"
   },
   {
    "duration": 5,
    "start_time": "2024-06-21T14:30:05.902Z"
   },
   {
    "duration": 9,
    "start_time": "2024-06-21T14:30:06.830Z"
   },
   {
    "duration": 8,
    "start_time": "2024-06-21T14:30:07.780Z"
   },
   {
    "duration": 14,
    "start_time": "2024-06-21T14:30:08.116Z"
   },
   {
    "duration": 26,
    "start_time": "2024-06-21T14:30:09.312Z"
   },
   {
    "duration": 5,
    "start_time": "2024-06-21T14:30:09.661Z"
   },
   {
    "duration": 7,
    "start_time": "2024-06-21T14:30:10.960Z"
   },
   {
    "duration": 6,
    "start_time": "2024-06-21T14:30:14.826Z"
   },
   {
    "duration": 13,
    "start_time": "2024-06-21T14:30:15.400Z"
   },
   {
    "duration": 44,
    "start_time": "2024-06-21T14:30:16.432Z"
   },
   {
    "duration": 111,
    "start_time": "2024-06-21T14:30:19.232Z"
   },
   {
    "duration": 6,
    "start_time": "2024-06-21T14:30:20.088Z"
   },
   {
    "duration": 92,
    "start_time": "2024-06-21T14:30:20.855Z"
   },
   {
    "duration": 8,
    "start_time": "2024-06-21T14:30:21.877Z"
   },
   {
    "duration": 179,
    "start_time": "2024-06-21T14:30:22.839Z"
   },
   {
    "duration": 15,
    "start_time": "2024-06-21T14:30:23.827Z"
   },
   {
    "duration": 7,
    "start_time": "2024-06-21T14:30:28.231Z"
   },
   {
    "duration": 892,
    "start_time": "2024-06-21T14:30:30.892Z"
   },
   {
    "duration": 59,
    "start_time": "2024-06-21T14:30:31.788Z"
   },
   {
    "duration": 78,
    "start_time": "2024-06-21T14:30:32.945Z"
   },
   {
    "duration": 899,
    "start_time": "2024-06-21T14:30:36.409Z"
   },
   {
    "duration": 1198,
    "start_time": "2024-06-21T14:30:39.040Z"
   },
   {
    "duration": 458,
    "start_time": "2024-06-21T14:30:41.235Z"
   },
   {
    "duration": 7,
    "start_time": "2024-06-21T14:30:43.660Z"
   },
   {
    "duration": 44,
    "start_time": "2024-06-21T14:30:44.524Z"
   },
   {
    "duration": 2307,
    "start_time": "2024-06-21T14:30:45.996Z"
   },
   {
    "duration": 2170,
    "start_time": "2024-06-21T14:31:13.519Z"
   },
   {
    "duration": 2325,
    "start_time": "2024-06-21T14:31:54.240Z"
   },
   {
    "duration": 704,
    "start_time": "2024-06-21T14:33:46.135Z"
   },
   {
    "duration": 2168,
    "start_time": "2024-06-21T14:33:58.302Z"
   },
   {
    "duration": 2167,
    "start_time": "2024-06-21T14:34:58.252Z"
   },
   {
    "duration": 34,
    "start_time": "2024-06-21T14:42:04.794Z"
   },
   {
    "duration": 2165,
    "start_time": "2024-06-21T14:42:37.616Z"
   },
   {
    "duration": 7020,
    "start_time": "2024-06-21T14:44:24.128Z"
   }
  ],
  "kernelspec": {
   "display_name": "Python 3 (ipykernel)",
   "language": "python",
   "name": "python3"
  },
  "language_info": {
   "codemirror_mode": {
    "name": "ipython",
    "version": 3
   },
   "file_extension": ".py",
   "mimetype": "text/x-python",
   "name": "python",
   "nbconvert_exporter": "python",
   "pygments_lexer": "ipython3",
   "version": "3.9.19"
  },
  "toc": {
   "base_numbering": 1,
   "nav_menu": {},
   "number_sections": true,
   "sideBar": true,
   "skip_h1_title": true,
   "title_cell": "Table of Contents",
   "title_sidebar": "Contents",
   "toc_cell": false,
   "toc_position": {},
   "toc_section_display": true,
   "toc_window_display": false
  }
 },
 "nbformat": 4,
 "nbformat_minor": 2
}
